{
  "cells": [
    {
      "cell_type": "code",
      "execution_count": 1,
      "metadata": {
        "colab": {
          "base_uri": "https://localhost:8080/"
        },
        "id": "aeGUyGzw9t4X",
        "outputId": "2ad1f7f1-9ecd-4d82-90ab-6af2be55459f"
      },
      "outputs": [
        {
          "name": "stdout",
          "output_type": "stream",
          "text": [
            "Mounted at /content/drive\n"
          ]
        }
      ],
      "source": [
        "from google.colab import drive\n",
        "drive.mount('/content/drive')"
      ]
    },
    {
      "cell_type": "code",
      "execution_count": 2,
      "metadata": {
        "colab": {
          "base_uri": "https://localhost:8080/"
        },
        "id": "XZvd14TL8HB3",
        "outputId": "3f656adc-f922-42b8-f114-a9f963a68f82"
      },
      "outputs": [
        {
          "name": "stdout",
          "output_type": "stream",
          "text": [
            "/content/drive/MyDrive\n"
          ]
        }
      ],
      "source": [
        "%cd /content/drive/MyDrive"
      ]
    },
    {
      "cell_type": "code",
      "execution_count": 4,
      "metadata": {
        "colab": {
          "base_uri": "https://localhost:8080/"
        },
        "id": "rru6RR1w8Ne6",
        "outputId": "06f0b247-08b9-4eeb-dd41-1dc72ad0c17c"
      },
      "outputs": [
        {
          "name": "stdout",
          "output_type": "stream",
          "text": [
            "/content/drive/MyDrive/nlpProject\n"
          ]
        }
      ],
      "source": [
        "%cd nlpProject/"
      ]
    },
    {
      "cell_type": "code",
      "execution_count": 5,
      "metadata": {
        "colab": {
          "base_uri": "https://localhost:8080/"
        },
        "id": "-g2RY7AcbOdm",
        "outputId": "0c6f9dd9-001f-4335-fe28-b3593fbbaea8"
      },
      "outputs": [
        {
          "name": "stdout",
          "output_type": "stream",
          "text": [
            "/content/drive/MyDrive/nlpProject/filter_programs\n"
          ]
        }
      ],
      "source": [
        "%cd filter_programs"
      ]
    },
    {
      "cell_type": "code",
      "execution_count": 6,
      "metadata": {
        "colab": {
          "base_uri": "https://localhost:8080/"
        },
        "id": "M9bAMKdLbgRq",
        "outputId": "d157f85a-dafc-4203-fc63-51f69dedda38"
      },
      "outputs": [
        {
          "name": "stderr",
          "output_type": "stream",
          "text": [
            "[nltk_data] Downloading package stopwords to /root/nltk_data...\n",
            "[nltk_data]   Unzipping corpora/stopwords.zip.\n"
          ]
        },
        {
          "data": {
            "text/plain": [
              "True"
            ]
          },
          "execution_count": 6,
          "metadata": {},
          "output_type": "execute_result"
        }
      ],
      "source": [
        "import nltk \n",
        "nltk.download(\"stopwords\")"
      ]
    },
    {
      "cell_type": "code",
      "execution_count": 7,
      "metadata": {
        "colab": {
          "base_uri": "https://localhost:8080/"
        },
        "id": "9HzARKyweBRT",
        "outputId": "3c6b3002-33da-4327-d3c1-d6ad21e994ca"
      },
      "outputs": [
        {
          "name": "stderr",
          "output_type": "stream",
          "text": [
            "[nltk_data] Downloading package punkt to /root/nltk_data...\n",
            "[nltk_data]   Unzipping tokenizers/punkt.zip.\n"
          ]
        },
        {
          "data": {
            "text/plain": [
              "True"
            ]
          },
          "execution_count": 7,
          "metadata": {},
          "output_type": "execute_result"
        }
      ],
      "source": [
        "import nltk\n",
        "nltk.download('punkt')"
      ]
    },
    {
      "cell_type": "code",
      "execution_count": 8,
      "metadata": {
        "id": "bEEcCJVZ4u6t"
      },
      "outputs": [],
      "source": [
        "import pandas as pd"
      ]
    },
    {
      "cell_type": "code",
      "execution_count": 9,
      "metadata": {
        "id": "AIg3FyDL4z9g"
      },
      "outputs": [],
      "source": [
        "df = pd.read_csv('/content/drive/MyDrive/nlpProject/all_reviews.csv')\n",
        "shuffled_df = df.sample(frac =1)\n",
        "shuffled_df.to_csv(\"shuffled_data.csv\", index=False)"
      ]
    },
    {
      "cell_type": "code",
      "execution_count": 10,
      "metadata": {
        "colab": {
          "base_uri": "https://localhost:8080/"
        },
        "id": "pbpy5FvPwYMq",
        "outputId": "72da6ec1-0463-4497-908a-12f3bffcd17b"
      },
      "outputs": [
        {
          "name": "stdout",
          "output_type": "stream",
          "text": [
            "Device available for running: \n",
            "cuda\n"
          ]
        }
      ],
      "source": [
        "import torch.nn as nn\n",
        "import torch.nn.functional as F\n",
        "import torch.optim as optim\n",
        "\n",
        "import torch\n",
        "# Use cuda if present\n",
        "device = torch.device(\"cuda\" if torch.cuda.is_available() else \"cpu\")\n",
        "print(\"Device available for running: \")\n",
        "print(device)"
      ]
    },
    {
      "cell_type": "code",
      "execution_count": 11,
      "metadata": {
        "colab": {
          "base_uri": "https://localhost:8080/",
          "height": 509
        },
        "id": "NZhuBplJcBBE",
        "outputId": "e2e77f1b-4ef4-4566-b72c-3e0de4d6454e"
      },
      "outputs": [
        {
          "name": "stdout",
          "output_type": "stream",
          "text": [
            "Columns in the original dataset:\n",
            "\n",
            "Index(['review_id', 'user_id', 'business_id', 'stars', 'useful', 'funny',\n",
            "       'cool', 'text', 'date'],\n",
            "      dtype='object')\n",
            "Number of rows per star rating:\n",
            "4    2000\n",
            "2    2000\n",
            "1    2000\n",
            "5    2000\n",
            "3    2000\n",
            "Name: stars, dtype: int64\n"
          ]
        },
        {
          "data": {
            "image/png": "[encoded data removed]",
            "text/plain": [
              "<Figure size 432x288 with 1 Axes>"
            ]
          },
          "metadata": {
            "needs_background": "light"
          },
          "output_type": "display_data"
        }
      ],
      "source": [
        "import matplotlib.pyplot as plt \n",
        "from gensim.utils import simple_preprocess\n",
        "from gensim.parsing.porter import PorterStemmer\n",
        "from sklearn.model_selection import train_test_split\n",
        "\n",
        "import torch.nn as nn\n",
        "import torch.nn.functional as F\n",
        "import torch.optim as optim\n",
        "from gensim import corpora\n",
        "import torch\n",
        "top_data_df = pd.read_csv(\"shuffled_data.csv\")\n",
        "\n",
        "print(\"Columns in the original dataset:\\n\")\n",
        "print(top_data_df.columns)\n",
        "\n",
        "print(\"Number of rows per star rating:\")\n",
        "print(top_data_df['stars'].value_counts())\n",
        "\n",
        "# Function to map stars to sentiment\n",
        "def map_sentiment(stars_received):\n",
        "    if stars_received == 1:\n",
        "        return -2\n",
        "    elif stars_received == 2:\n",
        "        return -1\n",
        "    elif stars_received == 3:\n",
        "        return 0\n",
        "    elif stars_received == 4:\n",
        "        return 1\n",
        "    else:\n",
        "        return 2\n",
        "# Mapping stars to sentiment into three categories\n",
        "top_data_df['sentiment'] = [ map_sentiment(x) for x in top_data_df['stars']]\n",
        "# Plotting the sentiment distribution\n",
        "plt.figure()\n",
        "pd.value_counts(top_data_df['sentiment']).plot.bar(title=\"Sentiment distribution in df\")\n",
        "plt.xlabel(\"Sentiment\")\n",
        "plt.ylabel(\"No. of rows in df\")\n",
        "plt.show()"
      ]
    },
    {
      "cell_type": "code",
      "execution_count": 12,
      "metadata": {
        "id": "qgYJ7lyK57eu"
      },
      "outputs": [],
      "source": [
        "# Function to retrieve top few number of each category\n",
        "def get_top_data(top_n = 5000):\n",
        "    top_data_df_five = top_data_df[top_data_df['sentiment'] == 2].head(top_n)\n",
        "    top_data_df_four = top_data_df[top_data_df['sentiment'] == 1].head(top_n)\n",
        "    top_data_df_three = top_data_df[top_data_df['sentiment'] == 0].head(top_n)\n",
        "    top_data_df_two = top_data_df[top_data_df['sentiment'] == -1].head(top_n)\n",
        "    top_data_df_one = top_data_df[top_data_df['sentiment'] == -2].head(top_n)\n",
        "    top_data_df_small = pd.concat([top_data_df_five, top_data_df_four, top_data_df_three, top_data_df_two, top_data_df_one])\n",
        "    return top_data_df_small\n"
      ]
    },
    {
      "cell_type": "markdown",
      "metadata": {
        "id": "B1X3Q9SpcIV4"
      },
      "source": []
    },
    {
      "cell_type": "code",
      "execution_count": 13,
      "metadata": {
        "colab": {
          "base_uri": "https://localhost:8080/",
          "height": 969
        },
        "id": "7o5HMZiR6eqT",
        "outputId": "2d59c333-b802-48b5-ea17-2aba584f6c7b"
      },
      "outputs": [
        {
          "name": "stdout",
          "output_type": "stream",
          "text": [
            "After segregating and taking equal number of rows for each sentiment:\n",
            " 2    2000\n",
            " 1    2000\n",
            " 0    2000\n",
            "-1    2000\n",
            "-2    2000\n",
            "Name: sentiment, dtype: int64\n"
          ]
        },
        {
          "data": {
            "text/html": [
              "\n",
              "  <div id=\"df-89346be1-2ec9-471b-af68-5df51e8d2120\">\n",
              "    <div class=\"colab-df-container\">\n",
              "      <div>\n",
              "<style scoped>\n",
              "    .dataframe tbody tr th:only-of-type {\n",
              "        vertical-align: middle;\n",
              "    }\n",
              "\n",
              "    .dataframe tbody tr th {\n",
              "        vertical-align: top;\n",
              "    }\n",
              "\n",
              "    .dataframe thead th {\n",
              "        text-align: right;\n",
              "    }\n",
              "</style>\n",
              "<table border=\"1\" class=\"dataframe\">\n",
              "  <thead>\n",
              "    <tr style=\"text-align: right;\">\n",
              "      <th></th>\n",
              "      <th>review_id</th>\n",
              "      <th>user_id</th>\n",
              "      <th>business_id</th>\n",
              "      <th>stars</th>\n",
              "      <th>useful</th>\n",
              "      <th>funny</th>\n",
              "      <th>cool</th>\n",
              "      <th>text</th>\n",
              "      <th>date</th>\n",
              "      <th>sentiment</th>\n",
              "    </tr>\n",
              "  </thead>\n",
              "  <tbody>\n",
              "    <tr>\n",
              "      <th>3</th>\n",
              "      <td>iF31vBhRtul3wE7i41u4FA</td>\n",
              "      <td>HciOYCvm2kSqYUYIPkmeMg</td>\n",
              "      <td>DvkSkF83xDONjkNIoEPRnQ</td>\n",
              "      <td>5</td>\n",
              "      <td>2</td>\n",
              "      <td>1</td>\n",
              "      <td>1</td>\n",
              "      <td>Got the manager's recommendations on a full di...</td>\n",
              "      <td>2018-05-08 17:12:41</td>\n",
              "      <td>2</td>\n",
              "    </tr>\n",
              "    <tr>\n",
              "      <th>7</th>\n",
              "      <td>Took2Zx2nfXjtOfLhQI9tA</td>\n",
              "      <td>INUDMj7EmrLlTh6qDNprAg</td>\n",
              "      <td>8uF-bhJFgT4Tn6DTb27viA</td>\n",
              "      <td>5</td>\n",
              "      <td>0</td>\n",
              "      <td>0</td>\n",
              "      <td>0</td>\n",
              "      <td>Walked here from our condo and found this awes...</td>\n",
              "      <td>2016-07-03 17:03:22</td>\n",
              "      <td>2</td>\n",
              "    </tr>\n",
              "    <tr>\n",
              "      <th>9</th>\n",
              "      <td>9TMie2ExIrfteJUR9Cd04A</td>\n",
              "      <td>IB3UNGdt4M6-rta16MT5kA</td>\n",
              "      <td>xsTiT3S9J87uYB1P8DHLgQ</td>\n",
              "      <td>5</td>\n",
              "      <td>2</td>\n",
              "      <td>1</td>\n",
              "      <td>0</td>\n",
              "      <td>Great selection of teachers and classes. Good ...</td>\n",
              "      <td>2013-10-24 06:21:49</td>\n",
              "      <td>2</td>\n",
              "    </tr>\n",
              "    <tr>\n",
              "      <th>14</th>\n",
              "      <td>UdKXbsNyrbUMKm3ou4B4Rw</td>\n",
              "      <td>SUFd_R_9HzYq5Ykv65sDiA</td>\n",
              "      <td>Dtuf4vD0znzwJW9vk3iTNw</td>\n",
              "      <td>5</td>\n",
              "      <td>1</td>\n",
              "      <td>0</td>\n",
              "      <td>1</td>\n",
              "      <td>Excellent price for sushi and I love their spe...</td>\n",
              "      <td>2015-02-16 18:33:44</td>\n",
              "      <td>2</td>\n",
              "    </tr>\n",
              "    <tr>\n",
              "      <th>18</th>\n",
              "      <td>wtHidkAfRhXE0FO1wb_Z6A</td>\n",
              "      <td>Jn3i1AGyDp3FmbIBCjGkzg</td>\n",
              "      <td>ga7jZd-JccpMqdSTgY2lUA</td>\n",
              "      <td>5</td>\n",
              "      <td>1</td>\n",
              "      <td>0</td>\n",
              "      <td>0</td>\n",
              "      <td>The food was great nice character! We sta on t...</td>\n",
              "      <td>2017-03-03 20:08:17</td>\n",
              "      <td>2</td>\n",
              "    </tr>\n",
              "    <tr>\n",
              "      <th>24</th>\n",
              "      <td>jzfO6zmCBI6JOH_mCUtXrw</td>\n",
              "      <td>GijHO9238eUBrigqBkXBnA</td>\n",
              "      <td>g04aAvgol7IW8buqSbT4xA</td>\n",
              "      <td>5</td>\n",
              "      <td>0</td>\n",
              "      <td>0</td>\n",
              "      <td>0</td>\n",
              "      <td>Not only was the food excellent, but the peopl...</td>\n",
              "      <td>2018-05-19 03:21:45</td>\n",
              "      <td>2</td>\n",
              "    </tr>\n",
              "    <tr>\n",
              "      <th>26</th>\n",
              "      <td>5dxv2inl0muxU9L-MUPjGA</td>\n",
              "      <td>oQ-Aj7QNn_7lAuigPDmwZw</td>\n",
              "      <td>E-4t5Hoon6aVFTWDPz26fQ</td>\n",
              "      <td>5</td>\n",
              "      <td>1</td>\n",
              "      <td>0</td>\n",
              "      <td>0</td>\n",
              "      <td>Amazing food and Amazing service! They know wh...</td>\n",
              "      <td>2015-07-04 16:26:53</td>\n",
              "      <td>2</td>\n",
              "    </tr>\n",
              "    <tr>\n",
              "      <th>27</th>\n",
              "      <td>YshxirKHQuemky5Oz1zD_A</td>\n",
              "      <td>WEHARuTmWKB_1J_90DSVWA</td>\n",
              "      <td>PBtZNTQl5tRReeC8It1G7g</td>\n",
              "      <td>5</td>\n",
              "      <td>2</td>\n",
              "      <td>0</td>\n",
              "      <td>0</td>\n",
              "      <td>*This review is just about the Fountain Grill*...</td>\n",
              "      <td>2013-08-15 18:39:12</td>\n",
              "      <td>2</td>\n",
              "    </tr>\n",
              "    <tr>\n",
              "      <th>28</th>\n",
              "      <td>FVF-3u_wluP5L_n5Dp6V0g</td>\n",
              "      <td>Iaas1x0jwzfcAK1E5LtACA</td>\n",
              "      <td>lpfrjbjIWC0BNZThaSDMLw</td>\n",
              "      <td>5</td>\n",
              "      <td>0</td>\n",
              "      <td>0</td>\n",
              "      <td>0</td>\n",
              "      <td>This is the best Thai food in St. Louis. Chick...</td>\n",
              "      <td>2015-08-06 22:28:40</td>\n",
              "      <td>2</td>\n",
              "    </tr>\n",
              "    <tr>\n",
              "      <th>44</th>\n",
              "      <td>k9JDHf-v7G46ps0PEVlw8g</td>\n",
              "      <td>jDLeW4d-8WqMkikCTHFJ5g</td>\n",
              "      <td>D2kZP7jvrWTuRzcPY6NbqA</td>\n",
              "      <td>5</td>\n",
              "      <td>0</td>\n",
              "      <td>0</td>\n",
              "      <td>0</td>\n",
              "      <td>Talk about amazing breakfast this is your spot...</td>\n",
              "      <td>2016-04-23 18:03:15</td>\n",
              "      <td>2</td>\n",
              "    </tr>\n",
              "  </tbody>\n",
              "</table>\n",
              "</div>\n",
              "      <button class=\"colab-df-convert\" onclick=\"convertToInteractive('df-89346be1-2ec9-471b-af68-5df51e8d2120')\"\n",
              "              title=\"Convert this dataframe to an interactive table.\"\n",
              "              style=\"display:none;\">\n",
              "        \n",
              "  <svg xmlns=\"http://www.w3.org/2000/svg\" height=\"24px\"viewBox=\"0 0 24 24\"\n",
              "       width=\"24px\">\n",
              "    <path d=\"M0 0h24v24H0V0z\" fill=\"none\"/>\n",
              "    <path d=\"M18.56 5.44l.94 2.06.94-2.06 2.06-.94-2.06-.94-.94-2.06-.94 2.06-2.06.94zm-11 1L8.5 8.5l.94-2.06 2.06-.94-2.06-.94L8.5 2.5l-.94 2.06-2.06.94zm10 10l.94 2.06.94-2.06 2.06-.94-2.06-.94-.94-2.06-.94 2.06-2.06.94z\"/><path d=\"M17.41 7.96l-1.37-1.37c-.4-.4-.92-.59-1.43-.59-.52 0-1.04.2-1.43.59L10.3 9.45l-7.72 7.72c-.78.78-.78 2.05 0 2.83L4 21.41c.39.39.9.59 1.41.59.51 0 1.02-.2 1.41-.59l7.78-7.78 2.81-2.81c.8-.78.8-2.07 0-2.86zM5.41 20L4 18.59l7.72-7.72 1.47 1.35L5.41 20z\"/>\n",
              "  </svg>\n",
              "      </button>\n",
              "      \n",
              "  <style>\n",
              "    .colab-df-container {\n",
              "      display:flex;\n",
              "      flex-wrap:wrap;\n",
              "      gap: 12px;\n",
              "    }\n",
              "\n",
              "    .colab-df-convert {\n",
              "      background-color: #E8F0FE;\n",
              "      border: none;\n",
              "      border-radius: 50%;\n",
              "      cursor: pointer;\n",
              "      display: none;\n",
              "      fill: #1967D2;\n",
              "      height: 32px;\n",
              "      padding: 0 0 0 0;\n",
              "      width: 32px;\n",
              "    }\n",
              "\n",
              "    .colab-df-convert:hover {\n",
              "      background-color: #E2EBFA;\n",
              "      box-shadow: 0px 1px 2px rgba(60, 64, 67, 0.3), 0px 1px 3px 1px rgba(60, 64, 67, 0.15);\n",
              "      fill: #174EA6;\n",
              "    }\n",
              "\n",
              "    [theme=dark] .colab-df-convert {\n",
              "      background-color: #3B4455;\n",
              "      fill: #D2E3FC;\n",
              "    }\n",
              "\n",
              "    [theme=dark] .colab-df-convert:hover {\n",
              "      background-color: #434B5C;\n",
              "      box-shadow: 0px 1px 3px 1px rgba(0, 0, 0, 0.15);\n",
              "      filter: drop-shadow(0px 1px 2px rgba(0, 0, 0, 0.3));\n",
              "      fill: #FFFFFF;\n",
              "    }\n",
              "  </style>\n",
              "\n",
              "      <script>\n",
              "        const buttonEl =\n",
              "          document.querySelector('#df-89346be1-2ec9-471b-af68-5df51e8d2120 button.colab-df-convert');\n",
              "        buttonEl.style.display =\n",
              "          google.colab.kernel.accessAllowed ? 'block' : 'none';\n",
              "\n",
              "        async function convertToInteractive(key) {\n",
              "          const element = document.querySelector('#df-89346be1-2ec9-471b-af68-5df51e8d2120');\n",
              "          const dataTable =\n",
              "            await google.colab.kernel.invokeFunction('convertToInteractive',\n",
              "                                                     [key], {});\n",
              "          if (!dataTable) return;\n",
              "\n",
              "          const docLinkHtml = 'Like what you see? Visit the ' +\n",
              "            '<a target=\"_blank\" href=https://colab.research.google.com/notebooks/data_table.ipynb>data table notebook</a>'\n",
              "            + ' to learn more about interactive tables.';\n",
              "          element.innerHTML = '';\n",
              "          dataTable['output_type'] = 'display_data';\n",
              "          await google.colab.output.renderOutput(dataTable, element);\n",
              "          const docLink = document.createElement('div');\n",
              "          docLink.innerHTML = docLinkHtml;\n",
              "          element.appendChild(docLink);\n",
              "        }\n",
              "      </script>\n",
              "    </div>\n",
              "  </div>\n",
              "  "
            ],
            "text/plain": [
              "                 review_id                 user_id             business_id  \\\n",
              "3   iF31vBhRtul3wE7i41u4FA  HciOYCvm2kSqYUYIPkmeMg  DvkSkF83xDONjkNIoEPRnQ   \n",
              "7   Took2Zx2nfXjtOfLhQI9tA  INUDMj7EmrLlTh6qDNprAg  8uF-bhJFgT4Tn6DTb27viA   \n",
              "9   9TMie2ExIrfteJUR9Cd04A  IB3UNGdt4M6-rta16MT5kA  xsTiT3S9J87uYB1P8DHLgQ   \n",
              "14  UdKXbsNyrbUMKm3ou4B4Rw  SUFd_R_9HzYq5Ykv65sDiA  Dtuf4vD0znzwJW9vk3iTNw   \n",
              "18  wtHidkAfRhXE0FO1wb_Z6A  Jn3i1AGyDp3FmbIBCjGkzg  ga7jZd-JccpMqdSTgY2lUA   \n",
              "24  jzfO6zmCBI6JOH_mCUtXrw  GijHO9238eUBrigqBkXBnA  g04aAvgol7IW8buqSbT4xA   \n",
              "26  5dxv2inl0muxU9L-MUPjGA  oQ-Aj7QNn_7lAuigPDmwZw  E-4t5Hoon6aVFTWDPz26fQ   \n",
              "27  YshxirKHQuemky5Oz1zD_A  WEHARuTmWKB_1J_90DSVWA  PBtZNTQl5tRReeC8It1G7g   \n",
              "28  FVF-3u_wluP5L_n5Dp6V0g  Iaas1x0jwzfcAK1E5LtACA  lpfrjbjIWC0BNZThaSDMLw   \n",
              "44  k9JDHf-v7G46ps0PEVlw8g  jDLeW4d-8WqMkikCTHFJ5g  D2kZP7jvrWTuRzcPY6NbqA   \n",
              "\n",
              "    stars  useful  funny  cool  \\\n",
              "3       5       2      1     1   \n",
              "7       5       0      0     0   \n",
              "9       5       2      1     0   \n",
              "14      5       1      0     1   \n",
              "18      5       1      0     0   \n",
              "24      5       0      0     0   \n",
              "26      5       1      0     0   \n",
              "27      5       2      0     0   \n",
              "28      5       0      0     0   \n",
              "44      5       0      0     0   \n",
              "\n",
              "                                                 text                 date  \\\n",
              "3   Got the manager's recommendations on a full di...  2018-05-08 17:12:41   \n",
              "7   Walked here from our condo and found this awes...  2016-07-03 17:03:22   \n",
              "9   Great selection of teachers and classes. Good ...  2013-10-24 06:21:49   \n",
              "14  Excellent price for sushi and I love their spe...  2015-02-16 18:33:44   \n",
              "18  The food was great nice character! We sta on t...  2017-03-03 20:08:17   \n",
              "24  Not only was the food excellent, but the peopl...  2018-05-19 03:21:45   \n",
              "26  Amazing food and Amazing service! They know wh...  2015-07-04 16:26:53   \n",
              "27  *This review is just about the Fountain Grill*...  2013-08-15 18:39:12   \n",
              "28  This is the best Thai food in St. Louis. Chick...  2015-08-06 22:28:40   \n",
              "44  Talk about amazing breakfast this is your spot...  2016-04-23 18:03:15   \n",
              "\n",
              "    sentiment  \n",
              "3           2  \n",
              "7           2  \n",
              "9           2  \n",
              "14          2  \n",
              "18          2  \n",
              "24          2  \n",
              "26          2  \n",
              "27          2  \n",
              "28          2  \n",
              "44          2  "
            ]
          },
          "execution_count": 13,
          "metadata": {},
          "output_type": "execute_result"
        }
      ],
      "source": [
        "# Function call to get the top 10000 from each sentiment\n",
        "top_data_df_small = get_top_data(top_n=10000)\n",
        "\n",
        "# After selecting top few samples of each sentiment\n",
        "print(\"After segregating and taking equal number of rows for each sentiment:\")\n",
        "print(top_data_df_small['sentiment'].value_counts())\n",
        "top_data_df_small.head(10)"
      ]
    },
    {
      "cell_type": "code",
      "execution_count": 14,
      "metadata": {
        "colab": {
          "base_uri": "https://localhost:8080/"
        },
        "id": "jXaYCTSg6ppG",
        "outputId": "f19ab060-1cc9-44df-c064-095f801a3d55"
      },
      "outputs": [
        {
          "name": "stdout",
          "output_type": "stream",
          "text": [
            "3     [got, the, manager, recommendations, on, full,...\n",
            "7     [walked, here, from, our, condo, and, found, t...\n",
            "9     [great, selection, of, teachers, and, classes,...\n",
            "14    [excellent, price, for, sushi, and, love, thei...\n",
            "18    [the, food, was, great, nice, character, we, s...\n",
            "24    [not, only, was, the, food, excellent, but, th...\n",
            "26    [amazing, food, and, amazing, service, they, k...\n",
            "27    [this, review, is, just, about, the, fountain,...\n",
            "28    [this, is, the, best, thai, food, in, st, loui...\n",
            "44    [talk, about, amazing, breakfast, this, is, yo...\n",
            "Name: tokenized_text, dtype: object\n"
          ]
        }
      ],
      "source": [
        "# Tokenize the text column to get the new column 'tokenized_text'\n",
        "top_data_df_small['tokenized_text'] = [simple_preprocess(line, deacc=True) for line in top_data_df_small['text']] \n",
        "print(top_data_df_small['tokenized_text'].head(10))\n",
        "porter_stemmer = PorterStemmer()"
      ]
    },
    {
      "cell_type": "code",
      "execution_count": 15,
      "metadata": {
        "colab": {
          "base_uri": "https://localhost:8080/"
        },
        "id": "6jtmn3kH6ww5",
        "outputId": "538a803d-7c32-4357-e37c-9c958f98e70c"
      },
      "outputs": [
        {
          "data": {
            "text/plain": [
              "3     [got, the, manag, recommend, on, full, dinner,...\n",
              "7     [walk, here, from, our, condo, and, found, thi...\n",
              "9     [great, select, of, teacher, and, class, good,...\n",
              "14    [excel, price, for, sushi, and, love, their, s...\n",
              "18    [the, food, wa, great, nice, charact, we, sta,...\n",
              "24    [not, onli, wa, the, food, excel, but, the, pe...\n",
              "26    [amaz, food, and, amaz, servic, thei, know, wh...\n",
              "27    [thi, review, is, just, about, the, fountain, ...\n",
              "28    [thi, is, the, best, thai, food, in, st, loui,...\n",
              "44    [talk, about, amaz, breakfast, thi, is, your, ...\n",
              "Name: stemmed_tokens, dtype: object"
            ]
          },
          "execution_count": 15,
          "metadata": {},
          "output_type": "execute_result"
        }
      ],
      "source": [
        "# Get the stemmed_tokens\n",
        "top_data_df_small['stemmed_tokens'] = [[porter_stemmer.stem(word) for word in tokens] for tokens in top_data_df_small['tokenized_text'] ]\n",
        "top_data_df_small['stemmed_tokens'].head(10)"
      ]
    },
    {
      "cell_type": "code",
      "execution_count": 16,
      "metadata": {
        "id": "b81NdlVO6zdj"
      },
      "outputs": [],
      "source": [
        "def split_train_test(top_data_df_small, test_size=0.1, shuffle_state=True):\n",
        "    X_train, X_test, Y_train, Y_test = train_test_split(top_data_df_small[['business_id', 'cool', 'date', 'funny', 'review_id', 'stars', 'text', 'useful', 'user_id', 'stemmed_tokens']], \n",
        "                                                        top_data_df_small['sentiment'], \n",
        "                                                        shuffle=shuffle_state,\n",
        "                                                        test_size=test_size, \n",
        "                                                        random_state=15)\n",
        "    print(\"Value counts for Train sentiments\")\n",
        "    print(Y_train.value_counts())\n",
        "    print(\"Value counts for Test sentiments\")\n",
        "    print(Y_test.value_counts())\n",
        "    print(type(X_train))\n",
        "    print(type(Y_train))\n",
        "    X_train = X_train.reset_index()\n",
        "    X_test = X_test.reset_index()\n",
        "    Y_train = Y_train.to_frame()\n",
        "    Y_train = Y_train.reset_index()\n",
        "    Y_test = Y_test.to_frame()\n",
        "    Y_test = Y_test.reset_index()\n",
        "    print(X_train.head())\n",
        "    return X_train, X_test, Y_train, Y_test"
      ]
    },
    {
      "cell_type": "code",
      "execution_count": 17,
      "metadata": {
        "colab": {
          "base_uri": "https://localhost:8080/"
        },
        "id": "5gKW-Bo468fH",
        "outputId": "7dff1c2f-f012-4a74-f14b-3bcbff86c9a1"
      },
      "outputs": [
        {
          "name": "stdout",
          "output_type": "stream",
          "text": [
            "Value counts for Train sentiments\n",
            "-2    1812\n",
            " 1    1806\n",
            " 2    1804\n",
            "-1    1799\n",
            " 0    1779\n",
            "Name: sentiment, dtype: int64\n",
            "Value counts for Test sentiments\n",
            " 0    221\n",
            "-1    201\n",
            " 2    196\n",
            " 1    194\n",
            "-2    188\n",
            "Name: sentiment, dtype: int64\n",
            "<class 'pandas.core.frame.DataFrame'>\n",
            "<class 'pandas.core.series.Series'>\n",
            "   index             business_id  cool                 date  funny  \\\n",
            "0   2842  j99PtxlKTW_u5alE4jiqHQ     0  2015-12-21 17:53:46      0   \n",
            "1   1831  SVSafDWg9r2Q5XEVOLPSSA     1  2017-09-09 01:36:29      0   \n",
            "2   9733  aY_n9RSaD2Yw09jSFFePew     0  2016-09-18 21:37:34      0   \n",
            "3   9706  AbbIoHhBEMZndmIm07L4Og     0  2018-08-23 21:05:53      0   \n",
            "4    912  Tq5jFk_BMSJG8-flqj5Bgw     0  2017-06-06 21:17:58      0   \n",
            "\n",
            "                review_id  stars  \\\n",
            "0  kiTPBfytCF_Q-Zoug-nJUA      5   \n",
            "1  ZLVJ03nuL07Q8bD_guahxw      5   \n",
            "2  -Pg_rr4Xa_wcPaQfeMGDUA      5   \n",
            "3  RG7X1VKlo-FpkZ6PWkcXYQ      1   \n",
            "4  HJpTp-cXIAIBm7dyARaXBg      4   \n",
            "\n",
            "                                                text  useful  \\\n",
            "0  Never a bad meal at Ralph's. I wish they had a...       0   \n",
            "1  I wish they served a bigger menu of dim sum be...       2   \n",
            "2  So happy there is a family friendly place to w...       0   \n",
            "3  Went to Winco to purchase my weeks worth of gr...       1   \n",
            "4  This unique pizza place is possibly one of my ...       0   \n",
            "\n",
            "                  user_id                                     stemmed_tokens  \n",
            "0  xsZ_fxVP_jdNrIe--75hog  [never, bad, meal, at, ralph, wish, thei, had,...  \n",
            "1  hBI6cPeKPmFG96vZxdI7ZQ  [wish, thei, serv, bigger, menu, of, dim, sum,...  \n",
            "2  BP2Hc1bdC_eNZ4Vrj4upNw  [so, happi, there, is, famili, friendli, place...  \n",
            "3  bHnIvp3l3aQ5Q3oFqK3bhQ  [went, to, winco, to, purchas, my, week, worth...  \n",
            "4  JG2d1wLMtMKS5vlaqRNIVQ  [thi, uniqu, pizza, place, is, possibl, on, of...  \n"
          ]
        }
      ],
      "source": [
        "# Call the train_test_split\n",
        "X_train, X_test, Y_train, Y_test = split_train_test(top_data_df_small)"
      ]
    },
    {
      "cell_type": "code",
      "execution_count": 18,
      "metadata": {
        "colab": {
          "base_uri": "https://localhost:8080/"
        },
        "id": "0fCs0Bkn7LIZ",
        "outputId": "69e99484-188e-451f-9dcb-8888bad013dc"
      },
      "outputs": [
        {
          "name": "stdout",
          "output_type": "stream",
          "text": [
            "Device available for running: \n",
            "cpu\n"
          ]
        }
      ],
      "source": [
        "# Use cuda if present\n",
        "device = torch.device(\"cpu\")\n",
        "print(\"Device available for running: \")\n",
        "print(device)"
      ]
    },
    {
      "cell_type": "code",
      "execution_count": 19,
      "metadata": {
        "id": "Sriq1oC37RJP"
      },
      "outputs": [],
      "source": [
        "class FeedforwardNeuralNetModel(nn.Module):\n",
        "    def __init__(self, input_dim, hidden_dim, output_dim):\n",
        "        super(FeedforwardNeuralNetModel, self).__init__()\n",
        "        \n",
        "        # Linear function 1: vocab_size --> 500\n",
        "        self.fc1 = nn.Linear(input_dim, hidden_dim) \n",
        "        # Non-linearity 1\n",
        "        self.relu1 = nn.ReLU()\n",
        "\n",
        "        # Linear function 2: 500 --> 500\n",
        "        self.fc2 = nn.Linear(hidden_dim, hidden_dim)\n",
        "        # Non-linearity 2\n",
        "        self.relu2 = nn.ReLU()\n",
        "\n",
        "        # Linear function 3 (readout): 500 --> 3\n",
        "        self.fc3 = nn.Linear(hidden_dim, output_dim)  \n",
        "\n",
        "    def forward(self, x):\n",
        "        # Linear function 1\n",
        "        out = self.fc1(x)\n",
        "        # Non-linearity 1\n",
        "        out = self.relu1(out)\n",
        "\n",
        "        # Linear function 2\n",
        "        out = self.fc2(out)\n",
        "        # Non-linearity 2\n",
        "        out = self.relu2(out)\n",
        "\n",
        "        # Linear function 3 (readout)\n",
        "        out = self.fc3(out)\n",
        "\n",
        "        return F.softmax(out, dim=1)"
      ]
    },
    {
      "cell_type": "code",
      "execution_count": 20,
      "metadata": {
        "id": "hjje3f247d9T"
      },
      "outputs": [],
      "source": [
        "# Function to return the dictionary either with padding word or without padding\n",
        "def make_dict(top_data_df_small, padding=True):\n",
        "    if padding:\n",
        "        print(\"Dictionary with padded token added\")\n",
        "        review_dict = corpora.Dictionary([['pad']])\n",
        "        review_dict.add_documents(top_data_df_small['stemmed_tokens'])\n",
        "    else:\n",
        "        print(\"Dictionary without padding\")\n",
        "        review_dict = corpora.Dictionary(top_data_df_small['stemmed_tokens'])\n",
        "    return review_dict"
      ]
    },
    {
      "cell_type": "code",
      "execution_count": 21,
      "metadata": {
        "colab": {
          "base_uri": "https://localhost:8080/"
        },
        "id": "pU3yKAcK7gOH",
        "outputId": "9c91ed1d-1477-4dde-9ed0-a998792c1ff2"
      },
      "outputs": [
        {
          "name": "stdout",
          "output_type": "stream",
          "text": [
            "Dictionary without padding\n"
          ]
        }
      ],
      "source": [
        "# Make the dictionary without padding for the basic models\n",
        "review_dict = make_dict(top_data_df_small, padding=False)\n",
        "\n",
        "VOCAB_SIZE = len(review_dict)\n",
        "NUM_LABELS = 5"
      ]
    },
    {
      "cell_type": "code",
      "execution_count": 23,
      "metadata": {
        "id": "F38Ysou67laZ"
      },
      "outputs": [],
      "source": [
        "# Function to make bow vector to be used as input to network\n",
        "def make_bow_vector(review_dict, sentence):\n",
        "    vec = torch.zeros(VOCAB_SIZE, dtype=torch.float64, device=device)\n",
        "    for word in sentence:\n",
        "        vec[review_dict.token2id[word]] += 1\n",
        "    return vec.view(1, -1).float()\n",
        "def make_target(label):\n",
        "    if label == -2:\n",
        "        return torch.tensor([0], dtype=torch.long, device=device)\n",
        "    elif label == -1:\n",
        "        return torch.tensor([1], dtype=torch.long, device=device)\n",
        "    elif label == 0:\n",
        "        return torch.tensor([2], dtype=torch.long, device=device)\n",
        "    elif label == 1:\n",
        "        return torch.tensor([3], dtype=torch.long, device=device)\n",
        "    else:\n",
        "        return torch.tensor([4], dtype=torch.long, device=device)"
      ]
    },
    {
      "cell_type": "code",
      "execution_count": 26,
      "metadata": {
        "id": "PYCuPXh27-dw"
      },
      "outputs": [],
      "source": [
        "VOCAB_SIZE = len(review_dict)\n",
        "\n",
        "input_dim = VOCAB_SIZE\n",
        "hidden_dim = 250\n",
        "output_dim = 5\n",
        "num_epochs = 50\n",
        "\n",
        "ff_nn_bow_model = FeedforwardNeuralNetModel(input_dim, hidden_dim, output_dim)\n",
        "ff_nn_bow_model.to(device)\n",
        "\n",
        "loss_function = nn.CrossEntropyLoss()\n",
        "optimizer = optim.SGD(ff_nn_bow_model.parameters(), lr=0.001)"
      ]
    },
    {
      "cell_type": "code",
      "execution_count": 27,
      "metadata": {
        "colab": {
          "base_uri": "https://localhost:8080/"
        },
        "id": "M3rPrryS8OMi",
        "outputId": "be615372-b692-4e60-a669-89623af10780"
      },
      "outputs": [
        {
          "name": "stdout",
          "output_type": "stream",
          "text": [
            "Epoch completed: 1\n",
            "Epoch completed: 2\n",
            "Epoch completed: 3\n",
            "Epoch completed: 4\n",
            "Epoch completed: 5\n",
            "Epoch completed: 6\n",
            "Epoch completed: 7\n",
            "Epoch completed: 8\n",
            "Epoch completed: 9\n",
            "Epoch completed: 10\n",
            "Epoch completed: 11\n",
            "Epoch completed: 12\n",
            "Epoch completed: 13\n",
            "Epoch completed: 14\n",
            "Epoch completed: 15\n",
            "Epoch completed: 16\n",
            "Epoch completed: 17\n",
            "Epoch completed: 18\n",
            "Epoch completed: 19\n",
            "Epoch completed: 20\n",
            "Epoch completed: 21\n",
            "Epoch completed: 22\n",
            "Epoch completed: 23\n",
            "Epoch completed: 24\n",
            "Epoch completed: 25\n",
            "Epoch completed: 26\n",
            "Epoch completed: 27\n",
            "Epoch completed: 28\n",
            "Epoch completed: 29\n",
            "Epoch completed: 30\n",
            "Epoch completed: 31\n",
            "Epoch completed: 32\n",
            "Epoch completed: 33\n",
            "Epoch completed: 34\n",
            "Epoch completed: 35\n",
            "Epoch completed: 36\n",
            "Epoch completed: 37\n",
            "Epoch completed: 38\n",
            "Epoch completed: 39\n",
            "Epoch completed: 40\n",
            "Epoch completed: 41\n",
            "Epoch completed: 42\n",
            "Epoch completed: 43\n",
            "Epoch completed: 44\n",
            "Epoch completed: 45\n",
            "Epoch completed: 46\n",
            "Epoch completed: 47\n",
            "Epoch completed: 48\n",
            "Epoch completed: 49\n",
            "Epoch completed: 50\n",
            "              precision    recall  f1-score   support\n",
            "\n",
            "           0       0.67      0.59      0.62       188\n",
            "           1       0.42      0.51      0.46       201\n",
            "           2       0.48      0.38      0.42       221\n",
            "           3       0.48      0.57      0.52       194\n",
            "           4       0.70      0.67      0.69       196\n",
            "\n",
            "    accuracy                           0.54      1000\n",
            "   macro avg       0.55      0.54      0.54      1000\n",
            "weighted avg       0.55      0.54      0.54      1000\n",
            "\n"
          ]
        }
      ],
      "source": [
        "import matplotlib.pyplot as plt \n",
        "from gensim.utils import simple_preprocess\n",
        "from gensim.parsing.porter import PorterStemmer\n",
        "from sklearn.model_selection import train_test_split\n",
        "from sklearn.metrics import classification_report\n",
        "\n",
        "import torch.nn as nn\n",
        "import torch.nn.functional as F\n",
        "import torch.optim as optim\n",
        "from gensim import corpora\n",
        "import torch\n",
        "# Open the file for writing loss\n",
        "ffnn_loss_file_name =  \"../json_data/\" + 'loss.json'\n",
        "f = open(ffnn_loss_file_name,'w')\n",
        "f.write('iter, loss')\n",
        "f.write('\\n')\n",
        "losses = []\n",
        "iter = 0\n",
        "# Start training\n",
        "for epoch in range(num_epochs):\n",
        "    print(\"Epoch completed: \" + str(epoch+1))\n",
        "    train_loss = 0\n",
        "    for index, row in X_train.iterrows():\n",
        "        # Clearing the accumulated gradients\n",
        "        optimizer.zero_grad()\n",
        "\n",
        "        # Make the bag of words vector for stemmed tokens \n",
        "        bow_vec = make_bow_vector(review_dict, row['stemmed_tokens'])\n",
        "       \n",
        "        # Forward pass to get output\n",
        "        probs = ff_nn_bow_model(bow_vec)\n",
        "\n",
        "        # Get the target label\n",
        "        target = make_target(Y_train['sentiment'][index])\n",
        "\n",
        "        # Calculate Loss: softmax --> cross entropy loss\n",
        "        loss = loss_function(probs, target)\n",
        "        # Accumulating the loss over time\n",
        "        train_loss += loss.item()\n",
        "\n",
        "        # Getting gradients w.r.t. parameters\n",
        "        loss.backward()\n",
        "\n",
        "        # Updating parameters\n",
        "        optimizer.step()\n",
        "    f.write(str((epoch+1)) + \",\" + str(train_loss / len(X_train)))\n",
        "    f.write('\\n')\n",
        "    train_loss = 0\n",
        "bow_ff_nn_predictions = []\n",
        "original_lables_ff_bow = []\n",
        "with torch.no_grad():\n",
        "    for index, row in X_test.iterrows():\n",
        "        bow_vec = make_bow_vector(review_dict, row['stemmed_tokens'])\n",
        "        probs = ff_nn_bow_model(bow_vec)\n",
        "        bow_ff_nn_predictions.append(torch.argmax(probs, dim=1).cpu().numpy()[0])\n",
        "        original_lables_ff_bow.append(make_target(Y_test['sentiment'][index]).cpu().numpy()[0])\n",
        "print(classification_report(original_lables_ff_bow,bow_ff_nn_predictions))"
      ]
    }
  ],
  "metadata": {
    "accelerator": "GPU",
    "colab": {
      "provenance": []
    },
    "gpuClass": "standard",
    "kernelspec": {
      "display_name": "Python 3.9.13 ('base')",
      "language": "python",
      "name": "python3"
    },
    "language_info": {
      "name": "python",
      "version": "3.9.13"
    },
    "vscode": {
      "interpreter": {
        "hash": "6108475e25fe4861720b0e893908e01929f31a114e34a5bb1bd89dbd0cdd71cb"
      }
    }
  },
  "nbformat": 4,
  "nbformat_minor": 0
}
