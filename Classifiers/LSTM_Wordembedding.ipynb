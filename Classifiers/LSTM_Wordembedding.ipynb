{
  "nbformat": 4,
  "nbformat_minor": 0,
  "metadata": {
    "colab": {
      "provenance": []
    },
    "kernelspec": {
      "name": "python3",
      "display_name": "Python 3"
    },
    "language_info": {
      "name": "python"
    },
    "accelerator": "GPU",
    "gpuClass": "standard"
  },
  "cells": [
    {
      "cell_type": "markdown",
      "source": [
        "# Binary Classification with LSTM+Word2Vec\n",
        "\n",
        "\n",
        "In the previous LSTM model, since we self-train embeddings, our model becomes overfit during training. Therefore, I wrote this LSTM_Wordembedding model using word2vec word embeddings to test if the model will perform better when it is trained on word embedding features. Due to time concerns, I did binary classification instead of multi-classification. I put 1,2,3 stars reviews as negative and 4,5 stars reviews as positive and balanced the dataset by extracting 4000 reviews from each(pos/neg) class. The resulting accuracy is around 80%, and the model doesn't get overfit. Thus, the LSTM_Wordembedding model performs better than the previous LSTM model, which is what we expected. "
      ],
      "metadata": {
        "id": "7G4677R01r_s"
      }
    },
    {
      "cell_type": "code",
      "execution_count": null,
      "metadata": {
        "colab": {
          "base_uri": "https://localhost:8080/"
        },
        "id": "HX04YYgiXMEI",
        "outputId": "5be072d1-3b7f-4138-b989-a42ad110d04a"
      },
      "outputs": [
        {
          "output_type": "stream",
          "name": "stdout",
          "text": [
            "Drive already mounted at /content/drive; to attempt to forcibly remount, call drive.mount(\"/content/drive\", force_remount=True).\n"
          ]
        }
      ],
      "source": [
        "from google.colab import drive\n",
        "drive.mount('/content/drive')"
      ]
    },
    {
      "cell_type": "code",
      "source": [
        "# Ignore  the warnings\n",
        "import warnings\n",
        "warnings.filterwarnings('always')\n",
        "warnings.filterwarnings('ignore')\n",
        "\n",
        "# data visualisation and manipulation\n",
        "import numpy as np\n",
        "import pandas as pd\n",
        "import matplotlib.pyplot as plt\n",
        "from matplotlib import style\n",
        "import seaborn as sns\n",
        "#configure\n",
        "#sets matplotlib to inline and displays graphs below the corressponding cell.\n",
        "%matplotlib inline  \n",
        "style.use('fivethirtyeight')\n",
        "sns.set(style='whitegrid',color_codes=True)\n",
        "\n",
        "#nltk\n",
        "import nltk\n",
        "\n",
        "#preprocessing\n",
        "from nltk.corpus import stopwords  #stopwords\n",
        "from nltk import word_tokenize,sent_tokenize # tokenizing\n",
        "from nltk.stem import PorterStemmer,LancasterStemmer  # using the Porter Stemmer and Lancaster Stemmer and others\n",
        "from nltk.stem.snowball import SnowballStemmer\n",
        "from nltk.stem import WordNetLemmatizer  # lammatizer from WordNet\n",
        "\n",
        "# for part-of-speech tagging\n",
        "from nltk import pos_tag\n",
        "\n",
        "# for named entity recognition (NER)\n",
        "from nltk import ne_chunk\n",
        "\n",
        "# vectorizers for creating the document-term-matrix (DTM)\n",
        "from sklearn.feature_extraction.text import TfidfVectorizer,CountVectorizer\n",
        "\n",
        "# BeautifulSoup libraray\n",
        "from bs4 import BeautifulSoup \n",
        "\n",
        "import re # regex\n",
        "\n",
        "#model_selection\n",
        "from sklearn.model_selection import train_test_split,cross_validate\n",
        "from sklearn.model_selection import KFold\n",
        "from sklearn.model_selection import GridSearchCV\n",
        "\n",
        "#evaluation\n",
        "from sklearn.metrics import accuracy_score,roc_auc_score \n",
        "from sklearn.metrics import classification_report\n",
        "from mlxtend.plotting import plot_confusion_matrix\n",
        "\n",
        "#preprocessing scikit\n",
        "from sklearn.preprocessing import MinMaxScaler,StandardScaler,LabelEncoder\n",
        "from sklearn.impute import SimpleImputer\n",
        "import numpy as np\n",
        "\n",
        "imputer = SimpleImputer(missing_values=np.nan, strategy='mean')\n",
        "#classifiaction.\n",
        "from sklearn.linear_model import LogisticRegression\n",
        "from sklearn.svm import LinearSVC,SVC\n",
        "from sklearn.neighbors import KNeighborsClassifier\n",
        "from sklearn.ensemble import RandomForestClassifier,GradientBoostingClassifier,AdaBoostClassifier\n",
        "from sklearn.tree import DecisionTreeClassifier\n",
        "from sklearn.naive_bayes import GaussianNB,MultinomialNB\n",
        " \n",
        "#stop-words\n",
        "from nltk.corpus import stopwords\n",
        "nltk.download('stopwords')\n",
        "stop_words = stopwords.words('english')\n",
        "\n",
        "#keras\n",
        "import keras\n",
        "from keras.preprocessing.text import one_hot,Tokenizer\n",
        "from keras_preprocessing.sequence import pad_sequences\n",
        "from keras.models import Sequential\n",
        "from keras.layers import Dense , Flatten ,Embedding,Input,CuDNNLSTM,LSTM\n",
        "from keras.models import Model\n",
        "from keras.preprocessing.text import text_to_word_sequence\n",
        "\n",
        "#gensim w2v\n",
        "#word2vec\n",
        "from gensim.models import Word2Vec"
      ],
      "metadata": {
        "colab": {
          "base_uri": "https://localhost:8080/"
        },
        "id": "0WwSP8o3ug10",
        "outputId": "38fa24ec-d898-4b2f-fb26-6f76307f34c5"
      },
      "execution_count": null,
      "outputs": [
        {
          "output_type": "stream",
          "name": "stderr",
          "text": [
            "[nltk_data] Downloading package stopwords to /root/nltk_data...\n",
            "[nltk_data]   Package stopwords is already up-to-date!\n"
          ]
        }
      ]
    },
    {
      "cell_type": "code",
      "source": [
        "df = pd.read_csv('/content/drive/MyDrive/LSTM_Wordembedding/data.csv')  \n",
        "shuffled_df = df.sample(frac=1)\n",
        "shuffled_df.to_csv(\"shuffled_data.csv\", index=False)"
      ],
      "metadata": {
        "id": "IV8J52GGYoMw"
      },
      "execution_count": null,
      "outputs": []
    },
    {
      "cell_type": "code",
      "source": [
        "df = pd.read_csv('shuffled_data.csv')  \n",
        "drop_columns = ['review_id','user_id','business_id','useful','funny','cool','date']\n",
        "df = df.drop(drop_columns, axis=1)\n",
        "df.head()"
      ],
      "metadata": {
        "colab": {
          "base_uri": "https://localhost:8080/",
          "height": 206
        },
        "id": "T236MP0SZAPd",
        "outputId": "78c5eaad-30c5-4e53-dd62-2631c4b3b6c9"
      },
      "execution_count": null,
      "outputs": [
        {
          "output_type": "execute_result",
          "data": {
            "text/plain": [
              "   stars                                               text\n",
              "0      4  Italian food is one of my favorite types of fo...\n",
              "1      3  Met a friend for dinner there about 5pm, based...\n",
              "2      3  The second time I went here wasn't nearly a go...\n",
              "3      5  Always worth the wait. Filling this review out...\n",
              "4      4  These are the best donuts around! A lot of var..."
            ],
            "text/html": [
              "\n",
              "  <div id=\"df-d89b44e2-5bd0-4bd3-ac68-9565d28db44f\">\n",
              "    <div class=\"colab-df-container\">\n",
              "      <div>\n",
              "<style scoped>\n",
              "    .dataframe tbody tr th:only-of-type {\n",
              "        vertical-align: middle;\n",
              "    }\n",
              "\n",
              "    .dataframe tbody tr th {\n",
              "        vertical-align: top;\n",
              "    }\n",
              "\n",
              "    .dataframe thead th {\n",
              "        text-align: right;\n",
              "    }\n",
              "</style>\n",
              "<table border=\"1\" class=\"dataframe\">\n",
              "  <thead>\n",
              "    <tr style=\"text-align: right;\">\n",
              "      <th></th>\n",
              "      <th>stars</th>\n",
              "      <th>text</th>\n",
              "    </tr>\n",
              "  </thead>\n",
              "  <tbody>\n",
              "    <tr>\n",
              "      <th>0</th>\n",
              "      <td>4</td>\n",
              "      <td>Italian food is one of my favorite types of fo...</td>\n",
              "    </tr>\n",
              "    <tr>\n",
              "      <th>1</th>\n",
              "      <td>3</td>\n",
              "      <td>Met a friend for dinner there about 5pm, based...</td>\n",
              "    </tr>\n",
              "    <tr>\n",
              "      <th>2</th>\n",
              "      <td>3</td>\n",
              "      <td>The second time I went here wasn't nearly a go...</td>\n",
              "    </tr>\n",
              "    <tr>\n",
              "      <th>3</th>\n",
              "      <td>5</td>\n",
              "      <td>Always worth the wait. Filling this review out...</td>\n",
              "    </tr>\n",
              "    <tr>\n",
              "      <th>4</th>\n",
              "      <td>4</td>\n",
              "      <td>These are the best donuts around! A lot of var...</td>\n",
              "    </tr>\n",
              "  </tbody>\n",
              "</table>\n",
              "</div>\n",
              "      <button class=\"colab-df-convert\" onclick=\"convertToInteractive('df-d89b44e2-5bd0-4bd3-ac68-9565d28db44f')\"\n",
              "              title=\"Convert this dataframe to an interactive table.\"\n",
              "              style=\"display:none;\">\n",
              "        \n",
              "  <svg xmlns=\"http://www.w3.org/2000/svg\" height=\"24px\"viewBox=\"0 0 24 24\"\n",
              "       width=\"24px\">\n",
              "    <path d=\"M0 0h24v24H0V0z\" fill=\"none\"/>\n",
              "    <path d=\"M18.56 5.44l.94 2.06.94-2.06 2.06-.94-2.06-.94-.94-2.06-.94 2.06-2.06.94zm-11 1L8.5 8.5l.94-2.06 2.06-.94-2.06-.94L8.5 2.5l-.94 2.06-2.06.94zm10 10l.94 2.06.94-2.06 2.06-.94-2.06-.94-.94-2.06-.94 2.06-2.06.94z\"/><path d=\"M17.41 7.96l-1.37-1.37c-.4-.4-.92-.59-1.43-.59-.52 0-1.04.2-1.43.59L10.3 9.45l-7.72 7.72c-.78.78-.78 2.05 0 2.83L4 21.41c.39.39.9.59 1.41.59.51 0 1.02-.2 1.41-.59l7.78-7.78 2.81-2.81c.8-.78.8-2.07 0-2.86zM5.41 20L4 18.59l7.72-7.72 1.47 1.35L5.41 20z\"/>\n",
              "  </svg>\n",
              "      </button>\n",
              "      \n",
              "  <style>\n",
              "    .colab-df-container {\n",
              "      display:flex;\n",
              "      flex-wrap:wrap;\n",
              "      gap: 12px;\n",
              "    }\n",
              "\n",
              "    .colab-df-convert {\n",
              "      background-color: #E8F0FE;\n",
              "      border: none;\n",
              "      border-radius: 50%;\n",
              "      cursor: pointer;\n",
              "      display: none;\n",
              "      fill: #1967D2;\n",
              "      height: 32px;\n",
              "      padding: 0 0 0 0;\n",
              "      width: 32px;\n",
              "    }\n",
              "\n",
              "    .colab-df-convert:hover {\n",
              "      background-color: #E2EBFA;\n",
              "      box-shadow: 0px 1px 2px rgba(60, 64, 67, 0.3), 0px 1px 3px 1px rgba(60, 64, 67, 0.15);\n",
              "      fill: #174EA6;\n",
              "    }\n",
              "\n",
              "    [theme=dark] .colab-df-convert {\n",
              "      background-color: #3B4455;\n",
              "      fill: #D2E3FC;\n",
              "    }\n",
              "\n",
              "    [theme=dark] .colab-df-convert:hover {\n",
              "      background-color: #434B5C;\n",
              "      box-shadow: 0px 1px 3px 1px rgba(0, 0, 0, 0.15);\n",
              "      filter: drop-shadow(0px 1px 2px rgba(0, 0, 0, 0.3));\n",
              "      fill: #FFFFFF;\n",
              "    }\n",
              "  </style>\n",
              "\n",
              "      <script>\n",
              "        const buttonEl =\n",
              "          document.querySelector('#df-d89b44e2-5bd0-4bd3-ac68-9565d28db44f button.colab-df-convert');\n",
              "        buttonEl.style.display =\n",
              "          google.colab.kernel.accessAllowed ? 'block' : 'none';\n",
              "\n",
              "        async function convertToInteractive(key) {\n",
              "          const element = document.querySelector('#df-d89b44e2-5bd0-4bd3-ac68-9565d28db44f');\n",
              "          const dataTable =\n",
              "            await google.colab.kernel.invokeFunction('convertToInteractive',\n",
              "                                                     [key], {});\n",
              "          if (!dataTable) return;\n",
              "\n",
              "          const docLinkHtml = 'Like what you see? Visit the ' +\n",
              "            '<a target=\"_blank\" href=https://colab.research.google.com/notebooks/data_table.ipynb>data table notebook</a>'\n",
              "            + ' to learn more about interactive tables.';\n",
              "          element.innerHTML = '';\n",
              "          dataTable['output_type'] = 'display_data';\n",
              "          await google.colab.output.renderOutput(dataTable, element);\n",
              "          const docLink = document.createElement('div');\n",
              "          docLink.innerHTML = docLinkHtml;\n",
              "          element.appendChild(docLink);\n",
              "        }\n",
              "      </script>\n",
              "    </div>\n",
              "  </div>\n",
              "  "
            ]
          },
          "metadata": {},
          "execution_count": 107
        }
      ]
    },
    {
      "cell_type": "code",
      "source": [
        "def mark_sentiment(stars):\n",
        "    if(stars<=3):\n",
        "        return 0\n",
        "    else:\n",
        "        return 1"
      ],
      "metadata": {
        "id": "58W8jq5CmWrD"
      },
      "execution_count": null,
      "outputs": []
    },
    {
      "cell_type": "code",
      "source": [
        "df['sentiment']=df['stars'].apply(mark_sentiment)"
      ],
      "metadata": {
        "id": "fdNL4Shg48m_"
      },
      "execution_count": null,
      "outputs": []
    },
    {
      "cell_type": "code",
      "source": [
        "df.drop(['stars'],axis=1,inplace=True)"
      ],
      "metadata": {
        "id": "tt5kSrFLpUwm"
      },
      "execution_count": null,
      "outputs": []
    },
    {
      "cell_type": "code",
      "source": [
        "df.head()"
      ],
      "metadata": {
        "colab": {
          "base_uri": "https://localhost:8080/",
          "height": 206
        },
        "id": "hzpofeF6pYDa",
        "outputId": "0f62d504-1a4b-4331-be59-5c7ac49012e2"
      },
      "execution_count": null,
      "outputs": [
        {
          "output_type": "execute_result",
          "data": {
            "text/plain": [
              "                                                text  sentiment\n",
              "0  Italian food is one of my favorite types of fo...          1\n",
              "1  Met a friend for dinner there about 5pm, based...          0\n",
              "2  The second time I went here wasn't nearly a go...          0\n",
              "3  Always worth the wait. Filling this review out...          1\n",
              "4  These are the best donuts around! A lot of var...          1"
            ],
            "text/html": [
              "\n",
              "  <div id=\"df-555ab2db-7765-4f84-8e9c-944d585993ee\">\n",
              "    <div class=\"colab-df-container\">\n",
              "      <div>\n",
              "<style scoped>\n",
              "    .dataframe tbody tr th:only-of-type {\n",
              "        vertical-align: middle;\n",
              "    }\n",
              "\n",
              "    .dataframe tbody tr th {\n",
              "        vertical-align: top;\n",
              "    }\n",
              "\n",
              "    .dataframe thead th {\n",
              "        text-align: right;\n",
              "    }\n",
              "</style>\n",
              "<table border=\"1\" class=\"dataframe\">\n",
              "  <thead>\n",
              "    <tr style=\"text-align: right;\">\n",
              "      <th></th>\n",
              "      <th>text</th>\n",
              "      <th>sentiment</th>\n",
              "    </tr>\n",
              "  </thead>\n",
              "  <tbody>\n",
              "    <tr>\n",
              "      <th>0</th>\n",
              "      <td>Italian food is one of my favorite types of fo...</td>\n",
              "      <td>1</td>\n",
              "    </tr>\n",
              "    <tr>\n",
              "      <th>1</th>\n",
              "      <td>Met a friend for dinner there about 5pm, based...</td>\n",
              "      <td>0</td>\n",
              "    </tr>\n",
              "    <tr>\n",
              "      <th>2</th>\n",
              "      <td>The second time I went here wasn't nearly a go...</td>\n",
              "      <td>0</td>\n",
              "    </tr>\n",
              "    <tr>\n",
              "      <th>3</th>\n",
              "      <td>Always worth the wait. Filling this review out...</td>\n",
              "      <td>1</td>\n",
              "    </tr>\n",
              "    <tr>\n",
              "      <th>4</th>\n",
              "      <td>These are the best donuts around! A lot of var...</td>\n",
              "      <td>1</td>\n",
              "    </tr>\n",
              "  </tbody>\n",
              "</table>\n",
              "</div>\n",
              "      <button class=\"colab-df-convert\" onclick=\"convertToInteractive('df-555ab2db-7765-4f84-8e9c-944d585993ee')\"\n",
              "              title=\"Convert this dataframe to an interactive table.\"\n",
              "              style=\"display:none;\">\n",
              "        \n",
              "  <svg xmlns=\"http://www.w3.org/2000/svg\" height=\"24px\"viewBox=\"0 0 24 24\"\n",
              "       width=\"24px\">\n",
              "    <path d=\"M0 0h24v24H0V0z\" fill=\"none\"/>\n",
              "    <path d=\"M18.56 5.44l.94 2.06.94-2.06 2.06-.94-2.06-.94-.94-2.06-.94 2.06-2.06.94zm-11 1L8.5 8.5l.94-2.06 2.06-.94-2.06-.94L8.5 2.5l-.94 2.06-2.06.94zm10 10l.94 2.06.94-2.06 2.06-.94-2.06-.94-.94-2.06-.94 2.06-2.06.94z\"/><path d=\"M17.41 7.96l-1.37-1.37c-.4-.4-.92-.59-1.43-.59-.52 0-1.04.2-1.43.59L10.3 9.45l-7.72 7.72c-.78.78-.78 2.05 0 2.83L4 21.41c.39.39.9.59 1.41.59.51 0 1.02-.2 1.41-.59l7.78-7.78 2.81-2.81c.8-.78.8-2.07 0-2.86zM5.41 20L4 18.59l7.72-7.72 1.47 1.35L5.41 20z\"/>\n",
              "  </svg>\n",
              "      </button>\n",
              "      \n",
              "  <style>\n",
              "    .colab-df-container {\n",
              "      display:flex;\n",
              "      flex-wrap:wrap;\n",
              "      gap: 12px;\n",
              "    }\n",
              "\n",
              "    .colab-df-convert {\n",
              "      background-color: #E8F0FE;\n",
              "      border: none;\n",
              "      border-radius: 50%;\n",
              "      cursor: pointer;\n",
              "      display: none;\n",
              "      fill: #1967D2;\n",
              "      height: 32px;\n",
              "      padding: 0 0 0 0;\n",
              "      width: 32px;\n",
              "    }\n",
              "\n",
              "    .colab-df-convert:hover {\n",
              "      background-color: #E2EBFA;\n",
              "      box-shadow: 0px 1px 2px rgba(60, 64, 67, 0.3), 0px 1px 3px 1px rgba(60, 64, 67, 0.15);\n",
              "      fill: #174EA6;\n",
              "    }\n",
              "\n",
              "    [theme=dark] .colab-df-convert {\n",
              "      background-color: #3B4455;\n",
              "      fill: #D2E3FC;\n",
              "    }\n",
              "\n",
              "    [theme=dark] .colab-df-convert:hover {\n",
              "      background-color: #434B5C;\n",
              "      box-shadow: 0px 1px 3px 1px rgba(0, 0, 0, 0.15);\n",
              "      filter: drop-shadow(0px 1px 2px rgba(0, 0, 0, 0.3));\n",
              "      fill: #FFFFFF;\n",
              "    }\n",
              "  </style>\n",
              "\n",
              "      <script>\n",
              "        const buttonEl =\n",
              "          document.querySelector('#df-555ab2db-7765-4f84-8e9c-944d585993ee button.colab-df-convert');\n",
              "        buttonEl.style.display =\n",
              "          google.colab.kernel.accessAllowed ? 'block' : 'none';\n",
              "\n",
              "        async function convertToInteractive(key) {\n",
              "          const element = document.querySelector('#df-555ab2db-7765-4f84-8e9c-944d585993ee');\n",
              "          const dataTable =\n",
              "            await google.colab.kernel.invokeFunction('convertToInteractive',\n",
              "                                                     [key], {});\n",
              "          if (!dataTable) return;\n",
              "\n",
              "          const docLinkHtml = 'Like what you see? Visit the ' +\n",
              "            '<a target=\"_blank\" href=https://colab.research.google.com/notebooks/data_table.ipynb>data table notebook</a>'\n",
              "            + ' to learn more about interactive tables.';\n",
              "          element.innerHTML = '';\n",
              "          dataTable['output_type'] = 'display_data';\n",
              "          await google.colab.output.renderOutput(dataTable, element);\n",
              "          const docLink = document.createElement('div');\n",
              "          docLink.innerHTML = docLinkHtml;\n",
              "          element.appendChild(docLink);\n",
              "        }\n",
              "      </script>\n",
              "    </div>\n",
              "  </div>\n",
              "  "
            ]
          },
          "metadata": {},
          "execution_count": 111
        }
      ]
    },
    {
      "cell_type": "code",
      "source": [
        "df['sentiment'].value_counts()"
      ],
      "metadata": {
        "colab": {
          "base_uri": "https://localhost:8080/"
        },
        "id": "2ZpXgiVarwwW",
        "outputId": "ce350c10-a5c0-48ba-e074-578d117b4426"
      },
      "execution_count": null,
      "outputs": [
        {
          "output_type": "execute_result",
          "data": {
            "text/plain": [
              "0    6000\n",
              "1    4000\n",
              "Name: sentiment, dtype: int64"
            ]
          },
          "metadata": {},
          "execution_count": 112
        }
      ]
    },
    {
      "cell_type": "code",
      "source": [
        "# function to clean and pre-process the text.\n",
        "def clean_reviews(review):  \n",
        "    \n",
        "    # 1. Removing html tags\n",
        "    review_text = BeautifulSoup(review,\"lxml\").get_text()\n",
        "    \n",
        "    # 2. Retaining only alphabets.\n",
        "    review_text = re.sub(\"[^a-zA-Z]\",\" \",review_text)\n",
        "    \n",
        "    # 3. Converting to lower case and splitting\n",
        "    word_tokens= review_text.lower().split()\n",
        "    \n",
        "    # 4. Remove stopwords\n",
        "    le=WordNetLemmatizer()\n",
        "    stop_words= set(stopwords.words(\"english\"))     \n",
        "    word_tokens= [le.lemmatize(w) for w in word_tokens if not w in stop_words]\n",
        "    \n",
        "    cleaned_review=\" \".join(word_tokens)\n",
        "    return cleaned_review"
      ],
      "metadata": {
        "id": "0F37Pt5Lp_q-"
      },
      "execution_count": null,
      "outputs": []
    },
    {
      "cell_type": "code",
      "source": [
        "pos_df=df.loc[df.sentiment==1,:][:4000]\n",
        "neg_df=df.loc[df.sentiment==0,:][:4000]"
      ],
      "metadata": {
        "id": "U4wlOECVr73P"
      },
      "execution_count": null,
      "outputs": []
    },
    {
      "cell_type": "code",
      "source": [
        "pos_df.head()"
      ],
      "metadata": {
        "colab": {
          "base_uri": "https://localhost:8080/",
          "height": 206
        },
        "id": "IHngbxzWr-ql",
        "outputId": "d1b0ade6-8bb6-4c7e-8d4d-d503c792aa7c"
      },
      "execution_count": null,
      "outputs": [
        {
          "output_type": "execute_result",
          "data": {
            "text/plain": [
              "                                                text  sentiment\n",
              "0  Italian food is one of my favorite types of fo...          1\n",
              "3  Always worth the wait. Filling this review out...          1\n",
              "4  These are the best donuts around! A lot of var...          1\n",
              "5  It was pretty crowded when we went but it was ...          1\n",
              "6  Magical vegan heaven. My wife and I stopped he...          1"
            ],
            "text/html": [
              "\n",
              "  <div id=\"df-f0cadfe8-59de-4f4e-af0b-d064206bf3af\">\n",
              "    <div class=\"colab-df-container\">\n",
              "      <div>\n",
              "<style scoped>\n",
              "    .dataframe tbody tr th:only-of-type {\n",
              "        vertical-align: middle;\n",
              "    }\n",
              "\n",
              "    .dataframe tbody tr th {\n",
              "        vertical-align: top;\n",
              "    }\n",
              "\n",
              "    .dataframe thead th {\n",
              "        text-align: right;\n",
              "    }\n",
              "</style>\n",
              "<table border=\"1\" class=\"dataframe\">\n",
              "  <thead>\n",
              "    <tr style=\"text-align: right;\">\n",
              "      <th></th>\n",
              "      <th>text</th>\n",
              "      <th>sentiment</th>\n",
              "    </tr>\n",
              "  </thead>\n",
              "  <tbody>\n",
              "    <tr>\n",
              "      <th>0</th>\n",
              "      <td>Italian food is one of my favorite types of fo...</td>\n",
              "      <td>1</td>\n",
              "    </tr>\n",
              "    <tr>\n",
              "      <th>3</th>\n",
              "      <td>Always worth the wait. Filling this review out...</td>\n",
              "      <td>1</td>\n",
              "    </tr>\n",
              "    <tr>\n",
              "      <th>4</th>\n",
              "      <td>These are the best donuts around! A lot of var...</td>\n",
              "      <td>1</td>\n",
              "    </tr>\n",
              "    <tr>\n",
              "      <th>5</th>\n",
              "      <td>It was pretty crowded when we went but it was ...</td>\n",
              "      <td>1</td>\n",
              "    </tr>\n",
              "    <tr>\n",
              "      <th>6</th>\n",
              "      <td>Magical vegan heaven. My wife and I stopped he...</td>\n",
              "      <td>1</td>\n",
              "    </tr>\n",
              "  </tbody>\n",
              "</table>\n",
              "</div>\n",
              "      <button class=\"colab-df-convert\" onclick=\"convertToInteractive('df-f0cadfe8-59de-4f4e-af0b-d064206bf3af')\"\n",
              "              title=\"Convert this dataframe to an interactive table.\"\n",
              "              style=\"display:none;\">\n",
              "        \n",
              "  <svg xmlns=\"http://www.w3.org/2000/svg\" height=\"24px\"viewBox=\"0 0 24 24\"\n",
              "       width=\"24px\">\n",
              "    <path d=\"M0 0h24v24H0V0z\" fill=\"none\"/>\n",
              "    <path d=\"M18.56 5.44l.94 2.06.94-2.06 2.06-.94-2.06-.94-.94-2.06-.94 2.06-2.06.94zm-11 1L8.5 8.5l.94-2.06 2.06-.94-2.06-.94L8.5 2.5l-.94 2.06-2.06.94zm10 10l.94 2.06.94-2.06 2.06-.94-2.06-.94-.94-2.06-.94 2.06-2.06.94z\"/><path d=\"M17.41 7.96l-1.37-1.37c-.4-.4-.92-.59-1.43-.59-.52 0-1.04.2-1.43.59L10.3 9.45l-7.72 7.72c-.78.78-.78 2.05 0 2.83L4 21.41c.39.39.9.59 1.41.59.51 0 1.02-.2 1.41-.59l7.78-7.78 2.81-2.81c.8-.78.8-2.07 0-2.86zM5.41 20L4 18.59l7.72-7.72 1.47 1.35L5.41 20z\"/>\n",
              "  </svg>\n",
              "      </button>\n",
              "      \n",
              "  <style>\n",
              "    .colab-df-container {\n",
              "      display:flex;\n",
              "      flex-wrap:wrap;\n",
              "      gap: 12px;\n",
              "    }\n",
              "\n",
              "    .colab-df-convert {\n",
              "      background-color: #E8F0FE;\n",
              "      border: none;\n",
              "      border-radius: 50%;\n",
              "      cursor: pointer;\n",
              "      display: none;\n",
              "      fill: #1967D2;\n",
              "      height: 32px;\n",
              "      padding: 0 0 0 0;\n",
              "      width: 32px;\n",
              "    }\n",
              "\n",
              "    .colab-df-convert:hover {\n",
              "      background-color: #E2EBFA;\n",
              "      box-shadow: 0px 1px 2px rgba(60, 64, 67, 0.3), 0px 1px 3px 1px rgba(60, 64, 67, 0.15);\n",
              "      fill: #174EA6;\n",
              "    }\n",
              "\n",
              "    [theme=dark] .colab-df-convert {\n",
              "      background-color: #3B4455;\n",
              "      fill: #D2E3FC;\n",
              "    }\n",
              "\n",
              "    [theme=dark] .colab-df-convert:hover {\n",
              "      background-color: #434B5C;\n",
              "      box-shadow: 0px 1px 3px 1px rgba(0, 0, 0, 0.15);\n",
              "      filter: drop-shadow(0px 1px 2px rgba(0, 0, 0, 0.3));\n",
              "      fill: #FFFFFF;\n",
              "    }\n",
              "  </style>\n",
              "\n",
              "      <script>\n",
              "        const buttonEl =\n",
              "          document.querySelector('#df-f0cadfe8-59de-4f4e-af0b-d064206bf3af button.colab-df-convert');\n",
              "        buttonEl.style.display =\n",
              "          google.colab.kernel.accessAllowed ? 'block' : 'none';\n",
              "\n",
              "        async function convertToInteractive(key) {\n",
              "          const element = document.querySelector('#df-f0cadfe8-59de-4f4e-af0b-d064206bf3af');\n",
              "          const dataTable =\n",
              "            await google.colab.kernel.invokeFunction('convertToInteractive',\n",
              "                                                     [key], {});\n",
              "          if (!dataTable) return;\n",
              "\n",
              "          const docLinkHtml = 'Like what you see? Visit the ' +\n",
              "            '<a target=\"_blank\" href=https://colab.research.google.com/notebooks/data_table.ipynb>data table notebook</a>'\n",
              "            + ' to learn more about interactive tables.';\n",
              "          element.innerHTML = '';\n",
              "          dataTable['output_type'] = 'display_data';\n",
              "          await google.colab.output.renderOutput(dataTable, element);\n",
              "          const docLink = document.createElement('div');\n",
              "          docLink.innerHTML = docLinkHtml;\n",
              "          element.appendChild(docLink);\n",
              "        }\n",
              "      </script>\n",
              "    </div>\n",
              "  </div>\n",
              "  "
            ]
          },
          "metadata": {},
          "execution_count": 115
        }
      ]
    },
    {
      "cell_type": "code",
      "source": [
        "neg_df.head()"
      ],
      "metadata": {
        "colab": {
          "base_uri": "https://localhost:8080/",
          "height": 206
        },
        "id": "zVZCBdkLsDQA",
        "outputId": "fae7a177-44ea-446d-d096-6fa913c3aca4"
      },
      "execution_count": null,
      "outputs": [
        {
          "output_type": "execute_result",
          "data": {
            "text/plain": [
              "                                                text  sentiment\n",
              "1  Met a friend for dinner there about 5pm, based...          0\n",
              "2  The second time I went here wasn't nearly a go...          0\n",
              "7  There was a time when all i wanted to do was h...          0\n",
              "8  Delivery was on time,  but the pizza missed th...          0\n",
              "9  Nice location and nice looking restaurant.  Ou...          0"
            ],
            "text/html": [
              "\n",
              "  <div id=\"df-542aee23-1da3-44cf-b67f-554e9f542f8f\">\n",
              "    <div class=\"colab-df-container\">\n",
              "      <div>\n",
              "<style scoped>\n",
              "    .dataframe tbody tr th:only-of-type {\n",
              "        vertical-align: middle;\n",
              "    }\n",
              "\n",
              "    .dataframe tbody tr th {\n",
              "        vertical-align: top;\n",
              "    }\n",
              "\n",
              "    .dataframe thead th {\n",
              "        text-align: right;\n",
              "    }\n",
              "</style>\n",
              "<table border=\"1\" class=\"dataframe\">\n",
              "  <thead>\n",
              "    <tr style=\"text-align: right;\">\n",
              "      <th></th>\n",
              "      <th>text</th>\n",
              "      <th>sentiment</th>\n",
              "    </tr>\n",
              "  </thead>\n",
              "  <tbody>\n",
              "    <tr>\n",
              "      <th>1</th>\n",
              "      <td>Met a friend for dinner there about 5pm, based...</td>\n",
              "      <td>0</td>\n",
              "    </tr>\n",
              "    <tr>\n",
              "      <th>2</th>\n",
              "      <td>The second time I went here wasn't nearly a go...</td>\n",
              "      <td>0</td>\n",
              "    </tr>\n",
              "    <tr>\n",
              "      <th>7</th>\n",
              "      <td>There was a time when all i wanted to do was h...</td>\n",
              "      <td>0</td>\n",
              "    </tr>\n",
              "    <tr>\n",
              "      <th>8</th>\n",
              "      <td>Delivery was on time,  but the pizza missed th...</td>\n",
              "      <td>0</td>\n",
              "    </tr>\n",
              "    <tr>\n",
              "      <th>9</th>\n",
              "      <td>Nice location and nice looking restaurant.  Ou...</td>\n",
              "      <td>0</td>\n",
              "    </tr>\n",
              "  </tbody>\n",
              "</table>\n",
              "</div>\n",
              "      <button class=\"colab-df-convert\" onclick=\"convertToInteractive('df-542aee23-1da3-44cf-b67f-554e9f542f8f')\"\n",
              "              title=\"Convert this dataframe to an interactive table.\"\n",
              "              style=\"display:none;\">\n",
              "        \n",
              "  <svg xmlns=\"http://www.w3.org/2000/svg\" height=\"24px\"viewBox=\"0 0 24 24\"\n",
              "       width=\"24px\">\n",
              "    <path d=\"M0 0h24v24H0V0z\" fill=\"none\"/>\n",
              "    <path d=\"M18.56 5.44l.94 2.06.94-2.06 2.06-.94-2.06-.94-.94-2.06-.94 2.06-2.06.94zm-11 1L8.5 8.5l.94-2.06 2.06-.94-2.06-.94L8.5 2.5l-.94 2.06-2.06.94zm10 10l.94 2.06.94-2.06 2.06-.94-2.06-.94-.94-2.06-.94 2.06-2.06.94z\"/><path d=\"M17.41 7.96l-1.37-1.37c-.4-.4-.92-.59-1.43-.59-.52 0-1.04.2-1.43.59L10.3 9.45l-7.72 7.72c-.78.78-.78 2.05 0 2.83L4 21.41c.39.39.9.59 1.41.59.51 0 1.02-.2 1.41-.59l7.78-7.78 2.81-2.81c.8-.78.8-2.07 0-2.86zM5.41 20L4 18.59l7.72-7.72 1.47 1.35L5.41 20z\"/>\n",
              "  </svg>\n",
              "      </button>\n",
              "      \n",
              "  <style>\n",
              "    .colab-df-container {\n",
              "      display:flex;\n",
              "      flex-wrap:wrap;\n",
              "      gap: 12px;\n",
              "    }\n",
              "\n",
              "    .colab-df-convert {\n",
              "      background-color: #E8F0FE;\n",
              "      border: none;\n",
              "      border-radius: 50%;\n",
              "      cursor: pointer;\n",
              "      display: none;\n",
              "      fill: #1967D2;\n",
              "      height: 32px;\n",
              "      padding: 0 0 0 0;\n",
              "      width: 32px;\n",
              "    }\n",
              "\n",
              "    .colab-df-convert:hover {\n",
              "      background-color: #E2EBFA;\n",
              "      box-shadow: 0px 1px 2px rgba(60, 64, 67, 0.3), 0px 1px 3px 1px rgba(60, 64, 67, 0.15);\n",
              "      fill: #174EA6;\n",
              "    }\n",
              "\n",
              "    [theme=dark] .colab-df-convert {\n",
              "      background-color: #3B4455;\n",
              "      fill: #D2E3FC;\n",
              "    }\n",
              "\n",
              "    [theme=dark] .colab-df-convert:hover {\n",
              "      background-color: #434B5C;\n",
              "      box-shadow: 0px 1px 3px 1px rgba(0, 0, 0, 0.15);\n",
              "      filter: drop-shadow(0px 1px 2px rgba(0, 0, 0, 0.3));\n",
              "      fill: #FFFFFF;\n",
              "    }\n",
              "  </style>\n",
              "\n",
              "      <script>\n",
              "        const buttonEl =\n",
              "          document.querySelector('#df-542aee23-1da3-44cf-b67f-554e9f542f8f button.colab-df-convert');\n",
              "        buttonEl.style.display =\n",
              "          google.colab.kernel.accessAllowed ? 'block' : 'none';\n",
              "\n",
              "        async function convertToInteractive(key) {\n",
              "          const element = document.querySelector('#df-542aee23-1da3-44cf-b67f-554e9f542f8f');\n",
              "          const dataTable =\n",
              "            await google.colab.kernel.invokeFunction('convertToInteractive',\n",
              "                                                     [key], {});\n",
              "          if (!dataTable) return;\n",
              "\n",
              "          const docLinkHtml = 'Like what you see? Visit the ' +\n",
              "            '<a target=\"_blank\" href=https://colab.research.google.com/notebooks/data_table.ipynb>data table notebook</a>'\n",
              "            + ' to learn more about interactive tables.';\n",
              "          element.innerHTML = '';\n",
              "          dataTable['output_type'] = 'display_data';\n",
              "          await google.colab.output.renderOutput(dataTable, element);\n",
              "          const docLink = document.createElement('div');\n",
              "          docLink.innerHTML = docLinkHtml;\n",
              "          element.appendChild(docLink);\n",
              "        }\n",
              "      </script>\n",
              "    </div>\n",
              "  </div>\n",
              "  "
            ]
          },
          "metadata": {},
          "execution_count": 116
        }
      ]
    },
    {
      "cell_type": "code",
      "source": [
        "#combining\n",
        "df=pd.concat([pos_df,neg_df],ignore_index=True)\n",
        "print(df.shape)\n",
        "df.head()"
      ],
      "metadata": {
        "colab": {
          "base_uri": "https://localhost:8080/",
          "height": 224
        },
        "id": "etZfiAOFsLZQ",
        "outputId": "8d9c4c90-6814-4321-85d7-6dbf5fb954e8"
      },
      "execution_count": null,
      "outputs": [
        {
          "output_type": "stream",
          "name": "stdout",
          "text": [
            "(8000, 2)\n"
          ]
        },
        {
          "output_type": "execute_result",
          "data": {
            "text/plain": [
              "                                                text  sentiment\n",
              "0  Italian food is one of my favorite types of fo...          1\n",
              "1  Always worth the wait. Filling this review out...          1\n",
              "2  These are the best donuts around! A lot of var...          1\n",
              "3  It was pretty crowded when we went but it was ...          1\n",
              "4  Magical vegan heaven. My wife and I stopped he...          1"
            ],
            "text/html": [
              "\n",
              "  <div id=\"df-9ba9ecfc-e844-4aa8-9dad-a2d6fe9640bb\">\n",
              "    <div class=\"colab-df-container\">\n",
              "      <div>\n",
              "<style scoped>\n",
              "    .dataframe tbody tr th:only-of-type {\n",
              "        vertical-align: middle;\n",
              "    }\n",
              "\n",
              "    .dataframe tbody tr th {\n",
              "        vertical-align: top;\n",
              "    }\n",
              "\n",
              "    .dataframe thead th {\n",
              "        text-align: right;\n",
              "    }\n",
              "</style>\n",
              "<table border=\"1\" class=\"dataframe\">\n",
              "  <thead>\n",
              "    <tr style=\"text-align: right;\">\n",
              "      <th></th>\n",
              "      <th>text</th>\n",
              "      <th>sentiment</th>\n",
              "    </tr>\n",
              "  </thead>\n",
              "  <tbody>\n",
              "    <tr>\n",
              "      <th>0</th>\n",
              "      <td>Italian food is one of my favorite types of fo...</td>\n",
              "      <td>1</td>\n",
              "    </tr>\n",
              "    <tr>\n",
              "      <th>1</th>\n",
              "      <td>Always worth the wait. Filling this review out...</td>\n",
              "      <td>1</td>\n",
              "    </tr>\n",
              "    <tr>\n",
              "      <th>2</th>\n",
              "      <td>These are the best donuts around! A lot of var...</td>\n",
              "      <td>1</td>\n",
              "    </tr>\n",
              "    <tr>\n",
              "      <th>3</th>\n",
              "      <td>It was pretty crowded when we went but it was ...</td>\n",
              "      <td>1</td>\n",
              "    </tr>\n",
              "    <tr>\n",
              "      <th>4</th>\n",
              "      <td>Magical vegan heaven. My wife and I stopped he...</td>\n",
              "      <td>1</td>\n",
              "    </tr>\n",
              "  </tbody>\n",
              "</table>\n",
              "</div>\n",
              "      <button class=\"colab-df-convert\" onclick=\"convertToInteractive('df-9ba9ecfc-e844-4aa8-9dad-a2d6fe9640bb')\"\n",
              "              title=\"Convert this dataframe to an interactive table.\"\n",
              "              style=\"display:none;\">\n",
              "        \n",
              "  <svg xmlns=\"http://www.w3.org/2000/svg\" height=\"24px\"viewBox=\"0 0 24 24\"\n",
              "       width=\"24px\">\n",
              "    <path d=\"M0 0h24v24H0V0z\" fill=\"none\"/>\n",
              "    <path d=\"M18.56 5.44l.94 2.06.94-2.06 2.06-.94-2.06-.94-.94-2.06-.94 2.06-2.06.94zm-11 1L8.5 8.5l.94-2.06 2.06-.94-2.06-.94L8.5 2.5l-.94 2.06-2.06.94zm10 10l.94 2.06.94-2.06 2.06-.94-2.06-.94-.94-2.06-.94 2.06-2.06.94z\"/><path d=\"M17.41 7.96l-1.37-1.37c-.4-.4-.92-.59-1.43-.59-.52 0-1.04.2-1.43.59L10.3 9.45l-7.72 7.72c-.78.78-.78 2.05 0 2.83L4 21.41c.39.39.9.59 1.41.59.51 0 1.02-.2 1.41-.59l7.78-7.78 2.81-2.81c.8-.78.8-2.07 0-2.86zM5.41 20L4 18.59l7.72-7.72 1.47 1.35L5.41 20z\"/>\n",
              "  </svg>\n",
              "      </button>\n",
              "      \n",
              "  <style>\n",
              "    .colab-df-container {\n",
              "      display:flex;\n",
              "      flex-wrap:wrap;\n",
              "      gap: 12px;\n",
              "    }\n",
              "\n",
              "    .colab-df-convert {\n",
              "      background-color: #E8F0FE;\n",
              "      border: none;\n",
              "      border-radius: 50%;\n",
              "      cursor: pointer;\n",
              "      display: none;\n",
              "      fill: #1967D2;\n",
              "      height: 32px;\n",
              "      padding: 0 0 0 0;\n",
              "      width: 32px;\n",
              "    }\n",
              "\n",
              "    .colab-df-convert:hover {\n",
              "      background-color: #E2EBFA;\n",
              "      box-shadow: 0px 1px 2px rgba(60, 64, 67, 0.3), 0px 1px 3px 1px rgba(60, 64, 67, 0.15);\n",
              "      fill: #174EA6;\n",
              "    }\n",
              "\n",
              "    [theme=dark] .colab-df-convert {\n",
              "      background-color: #3B4455;\n",
              "      fill: #D2E3FC;\n",
              "    }\n",
              "\n",
              "    [theme=dark] .colab-df-convert:hover {\n",
              "      background-color: #434B5C;\n",
              "      box-shadow: 0px 1px 3px 1px rgba(0, 0, 0, 0.15);\n",
              "      filter: drop-shadow(0px 1px 2px rgba(0, 0, 0, 0.3));\n",
              "      fill: #FFFFFF;\n",
              "    }\n",
              "  </style>\n",
              "\n",
              "      <script>\n",
              "        const buttonEl =\n",
              "          document.querySelector('#df-9ba9ecfc-e844-4aa8-9dad-a2d6fe9640bb button.colab-df-convert');\n",
              "        buttonEl.style.display =\n",
              "          google.colab.kernel.accessAllowed ? 'block' : 'none';\n",
              "\n",
              "        async function convertToInteractive(key) {\n",
              "          const element = document.querySelector('#df-9ba9ecfc-e844-4aa8-9dad-a2d6fe9640bb');\n",
              "          const dataTable =\n",
              "            await google.colab.kernel.invokeFunction('convertToInteractive',\n",
              "                                                     [key], {});\n",
              "          if (!dataTable) return;\n",
              "\n",
              "          const docLinkHtml = 'Like what you see? Visit the ' +\n",
              "            '<a target=\"_blank\" href=https://colab.research.google.com/notebooks/data_table.ipynb>data table notebook</a>'\n",
              "            + ' to learn more about interactive tables.';\n",
              "          element.innerHTML = '';\n",
              "          dataTable['output_type'] = 'display_data';\n",
              "          await google.colab.output.renderOutput(dataTable, element);\n",
              "          const docLink = document.createElement('div');\n",
              "          docLink.innerHTML = docLinkHtml;\n",
              "          element.appendChild(docLink);\n",
              "        }\n",
              "      </script>\n",
              "    </div>\n",
              "  </div>\n",
              "  "
            ]
          },
          "metadata": {},
          "execution_count": 117
        }
      ]
    },
    {
      "cell_type": "code",
      "source": [
        "# shuffling rows\n",
        "df = df.sample(frac=1).reset_index(drop=True)\n",
        "print(df.shape) \n",
        "df.head()"
      ],
      "metadata": {
        "colab": {
          "base_uri": "https://localhost:8080/",
          "height": 224
        },
        "id": "S-q3Vt6psQ9L",
        "outputId": "44abefff-5e69-4921-94d2-3edf794e346d"
      },
      "execution_count": null,
      "outputs": [
        {
          "output_type": "stream",
          "name": "stdout",
          "text": [
            "(8000, 2)\n"
          ]
        },
        {
          "output_type": "execute_result",
          "data": {
            "text/plain": [
              "                                                text  sentiment\n",
              "0  It has been quite awhile since I have been to ...          1\n",
              "1  I enjoyed a wonderful dinner here with a frien...          1\n",
              "2  Went here for lunch. Ordered the pork rice bow...          0\n",
              "3  I was in town on business and feeling on the e...          0\n",
              "4  My date and I came here for dessert only and w...          1"
            ],
            "text/html": [
              "\n",
              "  <div id=\"df-121e7c6f-6f83-497d-bb9e-f9b629aea2d1\">\n",
              "    <div class=\"colab-df-container\">\n",
              "      <div>\n",
              "<style scoped>\n",
              "    .dataframe tbody tr th:only-of-type {\n",
              "        vertical-align: middle;\n",
              "    }\n",
              "\n",
              "    .dataframe tbody tr th {\n",
              "        vertical-align: top;\n",
              "    }\n",
              "\n",
              "    .dataframe thead th {\n",
              "        text-align: right;\n",
              "    }\n",
              "</style>\n",
              "<table border=\"1\" class=\"dataframe\">\n",
              "  <thead>\n",
              "    <tr style=\"text-align: right;\">\n",
              "      <th></th>\n",
              "      <th>text</th>\n",
              "      <th>sentiment</th>\n",
              "    </tr>\n",
              "  </thead>\n",
              "  <tbody>\n",
              "    <tr>\n",
              "      <th>0</th>\n",
              "      <td>It has been quite awhile since I have been to ...</td>\n",
              "      <td>1</td>\n",
              "    </tr>\n",
              "    <tr>\n",
              "      <th>1</th>\n",
              "      <td>I enjoyed a wonderful dinner here with a frien...</td>\n",
              "      <td>1</td>\n",
              "    </tr>\n",
              "    <tr>\n",
              "      <th>2</th>\n",
              "      <td>Went here for lunch. Ordered the pork rice bow...</td>\n",
              "      <td>0</td>\n",
              "    </tr>\n",
              "    <tr>\n",
              "      <th>3</th>\n",
              "      <td>I was in town on business and feeling on the e...</td>\n",
              "      <td>0</td>\n",
              "    </tr>\n",
              "    <tr>\n",
              "      <th>4</th>\n",
              "      <td>My date and I came here for dessert only and w...</td>\n",
              "      <td>1</td>\n",
              "    </tr>\n",
              "  </tbody>\n",
              "</table>\n",
              "</div>\n",
              "      <button class=\"colab-df-convert\" onclick=\"convertToInteractive('df-121e7c6f-6f83-497d-bb9e-f9b629aea2d1')\"\n",
              "              title=\"Convert this dataframe to an interactive table.\"\n",
              "              style=\"display:none;\">\n",
              "        \n",
              "  <svg xmlns=\"http://www.w3.org/2000/svg\" height=\"24px\"viewBox=\"0 0 24 24\"\n",
              "       width=\"24px\">\n",
              "    <path d=\"M0 0h24v24H0V0z\" fill=\"none\"/>\n",
              "    <path d=\"M18.56 5.44l.94 2.06.94-2.06 2.06-.94-2.06-.94-.94-2.06-.94 2.06-2.06.94zm-11 1L8.5 8.5l.94-2.06 2.06-.94-2.06-.94L8.5 2.5l-.94 2.06-2.06.94zm10 10l.94 2.06.94-2.06 2.06-.94-2.06-.94-.94-2.06-.94 2.06-2.06.94z\"/><path d=\"M17.41 7.96l-1.37-1.37c-.4-.4-.92-.59-1.43-.59-.52 0-1.04.2-1.43.59L10.3 9.45l-7.72 7.72c-.78.78-.78 2.05 0 2.83L4 21.41c.39.39.9.59 1.41.59.51 0 1.02-.2 1.41-.59l7.78-7.78 2.81-2.81c.8-.78.8-2.07 0-2.86zM5.41 20L4 18.59l7.72-7.72 1.47 1.35L5.41 20z\"/>\n",
              "  </svg>\n",
              "      </button>\n",
              "      \n",
              "  <style>\n",
              "    .colab-df-container {\n",
              "      display:flex;\n",
              "      flex-wrap:wrap;\n",
              "      gap: 12px;\n",
              "    }\n",
              "\n",
              "    .colab-df-convert {\n",
              "      background-color: #E8F0FE;\n",
              "      border: none;\n",
              "      border-radius: 50%;\n",
              "      cursor: pointer;\n",
              "      display: none;\n",
              "      fill: #1967D2;\n",
              "      height: 32px;\n",
              "      padding: 0 0 0 0;\n",
              "      width: 32px;\n",
              "    }\n",
              "\n",
              "    .colab-df-convert:hover {\n",
              "      background-color: #E2EBFA;\n",
              "      box-shadow: 0px 1px 2px rgba(60, 64, 67, 0.3), 0px 1px 3px 1px rgba(60, 64, 67, 0.15);\n",
              "      fill: #174EA6;\n",
              "    }\n",
              "\n",
              "    [theme=dark] .colab-df-convert {\n",
              "      background-color: #3B4455;\n",
              "      fill: #D2E3FC;\n",
              "    }\n",
              "\n",
              "    [theme=dark] .colab-df-convert:hover {\n",
              "      background-color: #434B5C;\n",
              "      box-shadow: 0px 1px 3px 1px rgba(0, 0, 0, 0.15);\n",
              "      filter: drop-shadow(0px 1px 2px rgba(0, 0, 0, 0.3));\n",
              "      fill: #FFFFFF;\n",
              "    }\n",
              "  </style>\n",
              "\n",
              "      <script>\n",
              "        const buttonEl =\n",
              "          document.querySelector('#df-121e7c6f-6f83-497d-bb9e-f9b629aea2d1 button.colab-df-convert');\n",
              "        buttonEl.style.display =\n",
              "          google.colab.kernel.accessAllowed ? 'block' : 'none';\n",
              "\n",
              "        async function convertToInteractive(key) {\n",
              "          const element = document.querySelector('#df-121e7c6f-6f83-497d-bb9e-f9b629aea2d1');\n",
              "          const dataTable =\n",
              "            await google.colab.kernel.invokeFunction('convertToInteractive',\n",
              "                                                     [key], {});\n",
              "          if (!dataTable) return;\n",
              "\n",
              "          const docLinkHtml = 'Like what you see? Visit the ' +\n",
              "            '<a target=\"_blank\" href=https://colab.research.google.com/notebooks/data_table.ipynb>data table notebook</a>'\n",
              "            + ' to learn more about interactive tables.';\n",
              "          element.innerHTML = '';\n",
              "          dataTable['output_type'] = 'display_data';\n",
              "          await google.colab.output.renderOutput(dataTable, element);\n",
              "          const docLink = document.createElement('div');\n",
              "          docLink.innerHTML = docLinkHtml;\n",
              "          element.appendChild(docLink);\n",
              "        }\n",
              "      </script>\n",
              "    </div>\n",
              "  </div>\n",
              "  "
            ]
          },
          "metadata": {},
          "execution_count": 118
        }
      ]
    },
    {
      "cell_type": "code",
      "source": [
        "import nltk\n",
        "import nltk\n",
        "nltk.download('punkt')\n",
        "nltk.download('wordnet')\n",
        "nltk.download('omw-1.4')\n",
        "from nltk import word_tokenize,sent_tokenize\n",
        "tokenizer = nltk.data.load('tokenizers/punkt/english.pickle')\n",
        "sentences=[]\n",
        "sum=0\n",
        "for review in df['text']:\n",
        "    sents=tokenizer.tokenize(review.strip())\n",
        "    sum+=len(sents)\n",
        "    for sent in sents:\n",
        "        cleaned_sent=clean_reviews(sent)\n",
        "        sentences.append(cleaned_sent.split()) # can use word_tokenize also"
      ],
      "metadata": {
        "colab": {
          "base_uri": "https://localhost:8080/"
        },
        "id": "dKkvrKI8stV2",
        "outputId": "e7ce03b4-c537-4f37-f84a-2d8851ce3573"
      },
      "execution_count": null,
      "outputs": [
        {
          "output_type": "stream",
          "name": "stderr",
          "text": [
            "[nltk_data] Downloading package punkt to /root/nltk_data...\n",
            "[nltk_data]   Package punkt is already up-to-date!\n",
            "[nltk_data] Downloading package wordnet to /root/nltk_data...\n",
            "[nltk_data]   Package wordnet is already up-to-date!\n",
            "[nltk_data] Downloading package omw-1.4 to /root/nltk_data...\n",
            "[nltk_data]   Package omw-1.4 is already up-to-date!\n"
          ]
        }
      ]
    },
    {
      "cell_type": "code",
      "source": [
        "# trying to print few sentences\n",
        "for te in sentences[:5]:\n",
        "    print(te,\"\\n\")"
      ],
      "metadata": {
        "colab": {
          "base_uri": "https://localhost:8080/"
        },
        "id": "dkHBvD8VwavU",
        "outputId": "6611803e-47e7-4655-adab-211b4ecaa41d"
      },
      "execution_count": null,
      "outputs": [
        {
          "output_type": "stream",
          "name": "stdout",
          "text": [
            "['quite', 'awhile', 'since', 'silver', 'peak', 'pleasantly', 'surprised'] \n",
            "\n",
            "['group', 'u', 'went', 'lunch', 'movie'] \n",
            "\n",
            "['able', 'get', 'seat', 'patio'] \n",
            "\n",
            "['waitress', 'attentive', 'even', 'coming', 'back', 'one', 'point', 'tell', 'u', 'food', 'way'] \n",
            "\n",
            "['turkey', 'sandwich', 'great', 'flavor'] \n",
            "\n"
          ]
        }
      ]
    },
    {
      "cell_type": "code",
      "source": [
        "import gensim\n",
        "w2v_model=gensim.models.Word2Vec(sentences=sentences,size=300,window=10,min_count=1)"
      ],
      "metadata": {
        "id": "IgpBaCy2webq"
      },
      "execution_count": null,
      "outputs": []
    },
    {
      "cell_type": "code",
      "source": [
        "w2v_model.train(sentences,epochs=10,total_examples=len(sentences))"
      ],
      "metadata": {
        "colab": {
          "base_uri": "https://localhost:8080/"
        },
        "id": "7TZz2ITCwh2Q",
        "outputId": "fa3b647d-2c4a-4306-af10-5243fccac257"
      },
      "execution_count": null,
      "outputs": [
        {
          "output_type": "stream",
          "name": "stderr",
          "text": [
            "WARNING:gensim.models.base_any2vec:Effective 'alpha' higher than previous training cycles\n"
          ]
        },
        {
          "output_type": "execute_result",
          "data": {
            "text/plain": [
              "(3780574, 4053010)"
            ]
          },
          "metadata": {},
          "execution_count": 122
        }
      ]
    },
    {
      "cell_type": "code",
      "source": [
        "# embedding of a particular word.\n",
        "w2v_model.wv.get_vector('food')"
      ],
      "metadata": {
        "colab": {
          "base_uri": "https://localhost:8080/"
        },
        "id": "AbXz8JDrwleP",
        "outputId": "cdb44838-81ba-4956-d81b-72ffd3108f6e"
      },
      "execution_count": null,
      "outputs": [
        {
          "output_type": "execute_result",
          "data": {
            "text/plain": [
              "array([-1.2519074e-02,  3.0157462e-02, -2.4161012e-01, -4.2597109e-01,\n",
              "       -8.0857575e-01,  1.0164573e+00, -1.3604687e-01, -2.9193634e-01,\n",
              "        6.5294519e-02,  4.9009079e-01, -2.3208708e-02, -6.0725611e-01,\n",
              "        1.9603798e-01,  2.8376508e-01, -4.5399731e-01,  2.1580699e-01,\n",
              "       -5.0581926e-01,  2.9682201e-01,  8.6455965e-01, -3.1399676e-01,\n",
              "       -1.0142533e+00, -5.2604433e-02, -6.0910004e-01,  4.1506499e-01,\n",
              "        3.7061450e-01,  7.2691232e-01, -9.3420708e-01,  1.3068402e+00,\n",
              "        5.9924638e-01, -6.2094164e-01,  5.3530306e-01, -6.2002993e-01,\n",
              "        1.2970396e+00, -7.1154636e-01,  2.7356005e-01,  6.7948145e-01,\n",
              "        2.1156073e-01,  1.2184693e+00,  5.8060344e-02, -1.3461924e-01,\n",
              "       -8.9386225e-01,  1.8773535e-01,  2.4944596e-01,  2.5982824e-01,\n",
              "       -1.2155795e+00,  4.2707613e-01,  9.9672027e-02,  4.5422956e-01,\n",
              "        8.2563430e-01,  2.2515388e-01,  1.0961478e-01,  9.3297613e-01,\n",
              "        7.4269456e-01, -3.2314561e-02, -2.0898415e-01, -2.4610500e-01,\n",
              "       -4.1887900e-01, -5.8313614e-01,  7.3038317e-02, -3.9126980e-01,\n",
              "       -6.3063288e-01, -1.2467214e-01, -8.7959480e-01,  3.3546346e-01,\n",
              "        4.2152792e-01, -2.5529078e-01,  3.5045722e-01, -6.6857702e-01,\n",
              "       -7.0470577e-01,  1.6460846e-01, -1.2826746e+00, -6.2964487e-01,\n",
              "       -2.6480559e-01, -2.0095710e-01,  4.5949027e-01,  7.5702451e-02,\n",
              "        3.5004830e-01,  9.0980566e-01,  1.0612415e+00, -4.2136759e-01,\n",
              "        3.3298844e-01,  2.7397805e-01, -4.1470882e-01, -2.3223975e-01,\n",
              "       -7.1285856e-01,  2.1015564e-01,  5.0231493e-01, -3.3761445e-01,\n",
              "       -3.1655955e-01,  1.0904167e-01, -3.3463773e-01,  5.4983860e-01,\n",
              "       -1.4288967e+00,  4.3033201e-01,  4.3025133e-01, -6.0230291e-01,\n",
              "       -9.6852851e-01,  3.5547093e-01, -2.2324844e-01,  2.5815380e-01,\n",
              "       -8.9209795e-01, -5.7377088e-01,  2.2276613e-01, -5.1239662e-02,\n",
              "       -4.8309635e-02, -3.3713612e-01, -2.7699971e-01,  3.0792797e-01,\n",
              "        6.5061137e-02,  5.8736289e-01, -1.1234532e-01, -8.5208148e-01,\n",
              "       -6.8350691e-01, -1.5602396e+00, -3.8181804e-02, -5.7697529e-01,\n",
              "       -7.1098423e-01, -6.7158693e-01,  1.1705633e-01, -1.1449492e-01,\n",
              "       -4.2453280e-01,  9.9475402e-01, -7.5803286e-01, -2.7622399e-01,\n",
              "        1.8973818e-01, -5.6724995e-01, -3.5488987e-01, -5.7626408e-01,\n",
              "        7.1763867e-01,  1.3289655e-02,  3.4131756e-01, -5.6784773e-01,\n",
              "        8.7191385e-01,  3.8745530e-02,  1.1146328e+00, -3.7495562e-01,\n",
              "       -3.9593831e-01,  7.0231158e-01, -6.1993694e-01,  1.0150986e+00,\n",
              "        7.3355716e-01, -5.5984008e-01,  3.5341859e-01,  4.2757010e-01,\n",
              "       -4.9037226e-02,  1.9167736e-01, -5.2187389e-01,  4.1106331e-01,\n",
              "       -4.1209283e-01, -1.7240496e-01,  3.7403110e-02,  3.6940613e-01,\n",
              "       -6.1167836e-01,  7.1394153e-02,  2.4524660e-01, -4.5807979e-01,\n",
              "        3.2195190e-01,  5.5955404e-01,  3.5905138e-01, -1.5554772e-01,\n",
              "       -4.7887248e-01,  1.3916463e+00, -2.0661739e-01,  5.7544345e-01,\n",
              "       -6.4503783e-01,  2.5232151e-01, -3.2225835e-01,  1.3834260e-01,\n",
              "       -4.5639932e-01,  5.9672892e-01, -4.2590475e-01, -7.7800751e-01,\n",
              "        3.2946369e-01, -6.0410559e-01, -3.2644462e-02, -1.2635576e+00,\n",
              "        8.3792731e-02,  5.4594779e-01,  6.2449995e-02, -7.3290426e-01,\n",
              "        1.7389158e-02, -6.2932056e-01, -6.5928273e-02,  6.3752371e-01,\n",
              "       -1.2012574e-01, -1.1216187e+00,  7.8939360e-01, -3.6263159e-01,\n",
              "       -9.5434660e-01, -4.9740544e-01, -6.0745770e-01,  7.3989373e-01,\n",
              "        1.6223319e-01,  6.7255884e-01,  5.2248949e-01, -3.5815609e-01,\n",
              "       -7.7942967e-01, -6.9468182e-01, -8.8728929e-01, -1.5019056e-01,\n",
              "       -6.6866307e-03,  1.0231057e+00,  1.5184438e-01,  5.7583475e-01,\n",
              "        5.8408457e-01, -6.5208435e-01,  8.6974591e-01,  9.8366261e-01,\n",
              "       -4.4653326e-02, -2.7707738e-01,  4.3095592e-01,  1.9370501e-01,\n",
              "        5.4834628e-01, -1.4244200e-01,  2.9615891e-01, -6.7715275e-01,\n",
              "        5.8202529e-01, -1.5269548e-01, -1.9231658e-01, -9.4472665e-01,\n",
              "       -1.0525997e-01,  5.4561913e-01,  8.2695913e-01, -6.9937050e-01,\n",
              "        1.3468817e+00, -3.5238481e-01, -3.8260049e-01, -4.1348907e-01,\n",
              "       -8.3299124e-01, -8.2294536e-01,  2.8687346e-01,  3.6822416e-02,\n",
              "        7.8928781e-01, -5.5201389e-02,  1.0347148e+00, -3.2978442e-01,\n",
              "       -9.1727667e-02,  4.9813050e-01,  1.7729512e-01, -3.3377039e-01,\n",
              "       -9.3887243e-03,  4.7952610e-01,  6.9547720e-02, -5.1639006e-02,\n",
              "       -1.9190127e-01, -2.0719014e-01, -1.3237703e+00, -5.5862701e-01,\n",
              "        2.1979149e-04, -1.1003947e+00, -2.3884673e-01,  6.5198421e-02,\n",
              "        3.3346069e-01,  3.9976609e-01, -5.5558288e-01, -5.9331656e-01,\n",
              "        2.2013773e-01, -4.7001284e-01,  7.1779424e-01,  8.4571028e-01,\n",
              "        3.3756962e-01,  2.4225186e-01,  2.9358476e-01,  1.0882424e-01,\n",
              "       -4.8308182e-01, -1.7024383e-01,  3.7365010e-01, -6.4293355e-01,\n",
              "        2.4701393e-01, -5.9900433e-01,  1.6275720e-01,  3.6905390e-01,\n",
              "        2.1735355e-02,  2.8820947e-01,  1.5815811e+00, -7.0359148e-02,\n",
              "        4.3909332e-01,  2.8975171e-01,  4.6608508e-01, -1.1390023e+00,\n",
              "       -9.7619824e-02,  9.1554326e-01, -6.9053066e-01, -2.3644291e-01,\n",
              "       -2.5331444e-01, -1.9737896e-01, -9.8751503e-01,  5.2776092e-01,\n",
              "       -5.9789516e-02,  6.5335751e-01,  3.3871892e-01, -6.8541044e-01,\n",
              "        1.2040687e-01, -3.4090444e-01, -1.2273080e-01, -5.0826216e-01,\n",
              "       -4.9879271e-01,  5.8220480e-02,  3.3293036e-01,  7.6249796e-01],\n",
              "      dtype=float32)"
            ]
          },
          "metadata": {},
          "execution_count": 123
        }
      ]
    },
    {
      "cell_type": "code",
      "source": [
        "# total numberof extracted words.\n",
        "vocab=w2v_model.wv.vocab\n",
        "print(\"The total number of words are : \",len(vocab))"
      ],
      "metadata": {
        "colab": {
          "base_uri": "https://localhost:8080/"
        },
        "id": "RaEr1gTLxIVQ",
        "outputId": "41ac18f0-65cd-4244-bc65-405d3fe9cbc5"
      },
      "execution_count": null,
      "outputs": [
        {
          "output_type": "stream",
          "name": "stdout",
          "text": [
            "The total number of words are :  17138\n"
          ]
        }
      ]
    },
    {
      "cell_type": "code",
      "source": [
        "# similaraity b/w two words\n",
        "w2v_model.wv.similarity('good','ok')"
      ],
      "metadata": {
        "colab": {
          "base_uri": "https://localhost:8080/"
        },
        "id": "wLkKpfbfwqtn",
        "outputId": "968a5123-0a7b-4b38-8a8c-5cee33816c7b"
      },
      "execution_count": null,
      "outputs": [
        {
          "output_type": "execute_result",
          "data": {
            "text/plain": [
              "0.44149297"
            ]
          },
          "metadata": {},
          "execution_count": 125
        }
      ]
    },
    {
      "cell_type": "code",
      "source": [
        "word_vec_dict={}\n",
        "for word in vocab:\n",
        "  word_vec_dict[word]=w2v_model.wv.get_vector(word)\n",
        "print(\"The number of key-value pairs : \",len(word_vec_dict)) # should come equal to vocab size\n",
        "  "
      ],
      "metadata": {
        "colab": {
          "base_uri": "https://localhost:8080/"
        },
        "id": "vDIKRy_axo87",
        "outputId": "b4f41b6a-2dcc-438c-9957-264926d8e5d2"
      },
      "execution_count": null,
      "outputs": [
        {
          "output_type": "stream",
          "name": "stdout",
          "text": [
            "The number of key-value pairs :  17138\n"
          ]
        }
      ]
    },
    {
      "cell_type": "code",
      "source": [
        "# cleaning reviews\n",
        "df['clean_review']=df['text'].apply(clean_reviews)"
      ],
      "metadata": {
        "id": "bn7sLrUxxuep"
      },
      "execution_count": null,
      "outputs": []
    },
    {
      "cell_type": "code",
      "source": [
        "# number of unique words = 17266\n",
        "# now since we will have to pad we need to find the maximum lenght of any document\n",
        "\n",
        "maxi=-1\n",
        "for i,rev in enumerate(df['clean_review']):\n",
        "    tokens=rev.split()\n",
        "    if(len(tokens)>maxi):\n",
        "        maxi=len(tokens)\n",
        "print(maxi)"
      ],
      "metadata": {
        "colab": {
          "base_uri": "https://localhost:8080/"
        },
        "id": "G0AGQNNox526",
        "outputId": "17a7afa7-3a51-4700-a792-3b1cb24831d4"
      },
      "execution_count": null,
      "outputs": [
        {
          "output_type": "stream",
          "name": "stdout",
          "text": [
            "465\n"
          ]
        }
      ]
    },
    {
      "cell_type": "code",
      "source": [
        "tok = Tokenizer()\n",
        "tok.fit_on_texts(df['clean_review'])\n",
        "vocab_size = len(tok.word_index) + 1\n",
        "encd_rev = tok.texts_to_sequences(df['clean_review'])\n",
        "max_rev_len=500  # max lenght of a review\n",
        "vocab_size = len(tok.word_index) + 1  # total no of words\n",
        "embed_dim=300 # embedding dimension as choosen in word2vec constructor\n",
        "# now padding to have a amximum length of 500\n",
        "pad_rev= pad_sequences(encd_rev, maxlen=max_rev_len, padding='post')\n",
        "pad_rev.shape   # note that we had 100K reviews and we have padded each review to have  a lenght of 500 words"
      ],
      "metadata": {
        "colab": {
          "base_uri": "https://localhost:8080/"
        },
        "id": "xap8ILJdyD1T",
        "outputId": "24d3f7d7-7094-42eb-c090-d0267c48840e"
      },
      "execution_count": null,
      "outputs": [
        {
          "output_type": "execute_result",
          "data": {
            "text/plain": [
              "(8000, 500)"
            ]
          },
          "metadata": {},
          "execution_count": 129
        }
      ]
    },
    {
      "cell_type": "code",
      "source": [
        "# now creating the embedding matrix\n",
        "embed_matrix=np.zeros(shape=(vocab_size,embed_dim))\n",
        "for word,i in tok.word_index.items():\n",
        "  embed_vector=word_vec_dict.get(word)\n",
        "  if embed_vector is not None:  # word is in the vocabulary learned by the w2v model\n",
        "    embed_matrix[i]=embed_vector\n",
        "  # if word is not found then embed_vector corressponding to that vector will stay zero.\n",
        "# checking.\n",
        "print(embed_matrix[14])"
      ],
      "metadata": {
        "colab": {
          "base_uri": "https://localhost:8080/"
        },
        "id": "yVbGnralyPUf",
        "outputId": "118915c9-a444-4f0d-c4ff-878fa269d6c5"
      },
      "execution_count": null,
      "outputs": [
        {
          "output_type": "stream",
          "name": "stdout",
          "text": [
            "[-0.15329008  0.19205789  0.33048382 -0.29182404 -0.6070174   0.62978333\n",
            "  0.7098375   0.06378524  0.08979648  0.07521322 -0.47140661  0.36344141\n",
            " -0.7640112   0.09809756  0.37205693  0.46921232 -0.18176049 -0.27860013\n",
            "  0.11301555 -0.00168485  0.03173685  0.51631939 -0.12238616  0.36571446\n",
            " -0.02551958 -0.12248346  0.06422092  0.67846024 -0.22855788 -0.01474925\n",
            "  0.48981869 -0.84647423  0.84645599  0.06675145 -0.38953519  0.00483096\n",
            "  0.3633531   0.01628862 -0.24026129  0.15120988  0.04586197 -0.24636896\n",
            "  0.08834372  0.195199   -0.2607317   0.47687247 -0.47219157 -0.06249231\n",
            "  0.2629613   0.48581231  0.34527403 -1.01799011  0.44886872 -0.17510682\n",
            "  0.29230276 -0.17993848  0.35733572  0.48357856  0.77734751 -0.13269538\n",
            "  0.13037434  0.08009788  0.01265465  0.85501468  0.6014961  -0.01155237\n",
            "  0.35262269 -0.04540459 -0.19311917  0.00468632  0.90316802  0.06126091\n",
            "  0.1632857  -0.45787105 -0.68557423 -0.21797258 -0.22660227  0.25799742\n",
            "  0.44598156 -0.57502228  0.57460749 -0.14871721  0.25602856 -0.17385292\n",
            " -0.91323555 -0.2777223  -0.54519701 -0.71447712  0.30079967 -0.42227513\n",
            "  0.65470505 -0.07201038 -0.34360895  0.2783893  -0.7357899   0.11631389\n",
            " -0.01673773  0.63484991  0.32196459 -0.30327183 -0.69450939  0.66286337\n",
            " -0.91882771 -0.31931466  0.02369648 -0.36696926 -0.14409687 -0.34159431\n",
            "  0.35711941  0.10019904 -0.22387204  0.34155995 -0.69815767  0.39387313\n",
            " -0.10309773 -0.20536107 -0.67148435 -0.65002126  0.75315809  0.23552795\n",
            " -0.19069473  0.3030085  -0.20446843 -0.2228909  -0.51749456  0.14514448\n",
            " -0.59604889  0.04186334 -0.00169623 -0.34371281  0.02003469  0.55246025\n",
            "  0.25464225 -0.6879068   0.56542623 -0.45839083 -0.36072868 -0.20144364\n",
            " -0.23044364  0.08606473 -0.82497185  0.03657065  0.00688025 -0.39007464\n",
            " -0.05407584 -0.02280138 -0.46528944 -0.1959305   0.95423776 -0.78789455\n",
            "  0.35002607 -0.17700855  0.46351188  0.50930268 -0.23884636 -0.16260098\n",
            "  0.67394048  0.35234609  0.34887126 -0.40010846  0.21904519  0.03105503\n",
            "  0.08014712  0.35420141  0.18038245  0.25494692 -0.73437518 -0.37259814\n",
            "  0.2180665   0.1273116   0.57855093 -0.42091155  0.63052595  0.90829635\n",
            " -0.39210868  0.33864298 -0.51742458  0.52810639 -0.33415341 -0.36691514\n",
            " -0.2499515  -0.08547827 -0.37833092  0.38577524  0.91256547 -0.38047591\n",
            " -0.85336262 -0.14009476 -0.46486366 -0.26733482  0.13481617  0.46995264\n",
            " -0.17804289  0.50457329 -0.12950726  0.27293718  0.28453887 -0.12979677\n",
            " -0.13842858 -0.55533051  0.50380296  0.03261063  0.24016814  0.01199973\n",
            "  0.46010965 -0.46198797  0.19208536 -0.07590228  0.45689604  0.63668031\n",
            "  0.84156221  0.08132259  0.92318481 -0.12079992 -0.20373586 -0.51252615\n",
            " -0.27226833 -0.3763603   0.2464028   0.15472995 -0.10009903  0.15286966\n",
            "  0.10271662 -0.41318646  0.79910874 -1.05303288 -0.28689435  0.87613869\n",
            " -0.56583619 -0.61031848  0.41444451 -0.2570371   0.83646208  0.35614684\n",
            " -0.4585228   0.77302867 -0.39385086  0.42971414 -0.31539702 -0.2853539\n",
            "  0.07595384  0.4816184   0.26019862 -0.62720084  0.52039719 -0.64695215\n",
            "  0.35273221 -0.44891375  0.53157783 -0.17711468  0.12194474 -0.04262735\n",
            " -0.38475576 -0.28094462  0.37770641  0.82936984  0.21688443 -0.07572266\n",
            " -0.40597969  0.07851142  0.24313763 -0.30380809 -0.40261897  0.10270939\n",
            "  0.10532831  0.48208952  0.32694963  0.01480986  0.03218102  0.05736859\n",
            "  1.00839972 -0.15296373 -0.23061487 -0.49727136  0.88433832 -0.4616819\n",
            "  0.90461981  1.058097   -0.77727509 -0.18651016  0.49708316  0.14850366\n",
            " -0.05018156  0.1632047  -0.64145428  0.04049028 -0.29703408 -0.32986441\n",
            " -0.29426444 -0.2212815   0.10942601 -0.33341742 -0.55938303 -0.04623353\n",
            "  0.1307779   0.57664907 -0.34780177  0.11954807  0.44240832  0.31943312]\n"
          ]
        }
      ]
    },
    {
      "cell_type": "code",
      "source": [
        "# prepare train and val sets first\n",
        "Y=keras.utils.to_categorical(df['sentiment'])  # one hot target as required by NN\n",
        "x_train,x_test,y_train,y_test=train_test_split(pad_rev,Y,test_size=0.10,random_state=42)"
      ],
      "metadata": {
        "id": "xuGcQXC3yThE"
      },
      "execution_count": null,
      "outputs": []
    },
    {
      "cell_type": "code",
      "source": [
        "from keras.initializers import Constant\n",
        "from keras.layers import ReLU\n",
        "from keras.layers import Dropout\n",
        "model=Sequential()\n",
        "model.add(Embedding(input_dim=vocab_size,output_dim=embed_dim,input_length=max_rev_len,embeddings_initializer=Constant(embed_matrix)))\n",
        "# model.add(CuDNNLSTM(64,return_sequences=False)) # loss stucks at about \n",
        "model.add(Flatten())\n",
        "model.add(Dense(16,activation='relu'))\n",
        "model.add(Dropout(0.50))\n",
        "# model.add(Dense(16,activation='relu'))\n",
        "# model.add(Dropout(0.20))\n",
        "model.add(Dense(2,activation='sigmoid'))  # sigmod for bin. classification"
      ],
      "metadata": {
        "id": "Yo0S6raFyXM0"
      },
      "execution_count": null,
      "outputs": []
    },
    {
      "cell_type": "code",
      "source": [
        "model.summary()"
      ],
      "metadata": {
        "colab": {
          "base_uri": "https://localhost:8080/"
        },
        "id": "mf5gqDFNycZ4",
        "outputId": "179cbb0d-c4d0-46b4-b4e7-53061abd02f3"
      },
      "execution_count": null,
      "outputs": [
        {
          "output_type": "stream",
          "name": "stdout",
          "text": [
            "Model: \"sequential_2\"\n",
            "_________________________________________________________________\n",
            " Layer (type)                Output Shape              Param #   \n",
            "=================================================================\n",
            " embedding_3 (Embedding)     (None, 500, 300)          5141700   \n",
            "                                                                 \n",
            " flatten_2 (Flatten)         (None, 150000)            0         \n",
            "                                                                 \n",
            " dense_5 (Dense)             (None, 16)                2400016   \n",
            "                                                                 \n",
            " dropout_4 (Dropout)         (None, 16)                0         \n",
            "                                                                 \n",
            " dense_6 (Dense)             (None, 2)                 34        \n",
            "                                                                 \n",
            "=================================================================\n",
            "Total params: 7,541,750\n",
            "Trainable params: 7,541,750\n",
            "Non-trainable params: 0\n",
            "_________________________________________________________________\n"
          ]
        }
      ]
    },
    {
      "cell_type": "code",
      "source": [
        "# compile the model\n",
        "model.compile(optimizer=keras.optimizers.RMSprop(lr=1e-3),loss='binary_crossentropy',metrics=['accuracy'])\n",
        "# specify batch size and epochs for training\n",
        "epochs=5\n",
        "batch_size=64\n"
      ],
      "metadata": {
        "id": "XVzc1mlTyfwC"
      },
      "execution_count": null,
      "outputs": []
    },
    {
      "cell_type": "code",
      "source": [
        "# fitting the model\n",
        "model.fit(x_train,y_train,epochs=epochs,batch_size=batch_size,validation_data=(x_test,y_test))"
      ],
      "metadata": {
        "colab": {
          "base_uri": "https://localhost:8080/"
        },
        "id": "teBVw5RZyhd5",
        "outputId": "d7ca7c29-2c37-45fd-9fba-81b95372da73"
      },
      "execution_count": null,
      "outputs": [
        {
          "output_type": "stream",
          "name": "stdout",
          "text": [
            "Epoch 1/5\n",
            "113/113 [==============================] - 2s 9ms/step - loss: 0.5854 - accuracy: 0.7021 - val_loss: 0.5139 - val_accuracy: 0.7788\n",
            "Epoch 2/5\n",
            "113/113 [==============================] - 1s 7ms/step - loss: 0.4542 - accuracy: 0.7763 - val_loss: 0.4613 - val_accuracy: 0.7937\n",
            "Epoch 3/5\n",
            "113/113 [==============================] - 1s 7ms/step - loss: 0.3733 - accuracy: 0.8165 - val_loss: 0.4530 - val_accuracy: 0.7925\n",
            "Epoch 4/5\n",
            "113/113 [==============================] - 1s 7ms/step - loss: 0.3255 - accuracy: 0.8482 - val_loss: 0.4659 - val_accuracy: 0.7937\n",
            "Epoch 5/5\n",
            "113/113 [==============================] - 1s 7ms/step - loss: 0.2874 - accuracy: 0.8662 - val_loss: 0.5044 - val_accuracy: 0.8125\n"
          ]
        },
        {
          "output_type": "execute_result",
          "data": {
            "text/plain": [
              "<keras.callbacks.History at 0x7fc956439400>"
            ]
          },
          "metadata": {},
          "execution_count": 135
        }
      ]
    },
    {
      "cell_type": "code",
      "source": [
        "model.evaluate(x_test,y_test)"
      ],
      "metadata": {
        "colab": {
          "base_uri": "https://localhost:8080/"
        },
        "id": "tFOMojrWyvHz",
        "outputId": "bd197eb0-afda-4af4-9a2f-195e7db4193c"
      },
      "execution_count": null,
      "outputs": [
        {
          "output_type": "stream",
          "name": "stdout",
          "text": [
            "25/25 [==============================] - 0s 3ms/step - loss: 0.5044 - accuracy: 0.8125\n"
          ]
        },
        {
          "output_type": "execute_result",
          "data": {
            "text/plain": [
              "[0.5044351816177368, 0.8125]"
            ]
          },
          "metadata": {},
          "execution_count": 136
        }
      ]
    }
  ]
}